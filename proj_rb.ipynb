{
 "cells": [
  {
   "cell_type": "code",
   "execution_count": null,
   "id": "3fc16d68-c55e-4484-b075-2ef986a8c29c",
   "metadata": {},
   "outputs": [],
   "source": [
    "# rb model and projections"
   ]
  },
  {
   "cell_type": "code",
   "execution_count": 1,
   "id": "24ec8a22-f5b5-465e-842d-3c7d5f2f6910",
   "metadata": {},
   "outputs": [],
   "source": [
    "import pandas as pd"
   ]
  },
  {
   "cell_type": "code",
   "execution_count": 2,
   "id": "9a8f48b9-0562-4103-9569-ff177745f761",
   "metadata": {},
   "outputs": [],
   "source": [
    "stats = pd.read_csv(\"ffb_stats.csv\")"
   ]
  },
  {
   "cell_type": "code",
   "execution_count": 7,
   "id": "5e8ec263-05dd-4b33-965f-4b6697a08b6e",
   "metadata": {},
   "outputs": [],
   "source": [
    "feats = ['Player','Tm','Pos','Rushing Att','Rushing Yds', 'Rushing TD','Year','Pts','Tgt','Rec','Receiving Yds','Receiving TD']"
   ]
  },
  {
   "cell_type": "code",
   "execution_count": 8,
   "id": "bcd4074e-7184-469a-a888-4d3fdd410f0a",
   "metadata": {},
   "outputs": [],
   "source": [
    "ffb_rb = stats[stats['Pos'] == 'RB']"
   ]
  },
  {
   "cell_type": "code",
   "execution_count": 9,
   "id": "ac535939-52e8-47f4-88dd-148cbcaa0b50",
   "metadata": {},
   "outputs": [],
   "source": [
    "rb = ffb_rb[feats]"
   ]
  },
  {
   "cell_type": "code",
   "execution_count": 11,
   "id": "b3be9fc9-f06c-4965-8edd-e6601c546c0a",
   "metadata": {},
   "outputs": [],
   "source": [
    "predictors = ['Rushing Att','Rushing Yds', 'Rushing TD','Tgt','Rec','Receiving Yds','Receiving TD']"
   ]
  },
  {
   "cell_type": "code",
   "execution_count": 13,
   "id": "d132ce58-c57f-450a-965f-5da71066f7c7",
   "metadata": {},
   "outputs": [],
   "source": [
    "train = rb[rb['Year'] < 2022]\n",
    "test = rb[rb['Year'] == 2022]"
   ]
  },
  {
   "cell_type": "code",
   "execution_count": 14,
   "id": "ea18ebcd-7cbf-48e5-9b46-fc3e5b5fe5ca",
   "metadata": {},
   "outputs": [],
   "source": [
    "from sklearn.linear_model import Ridge\n",
    "\n",
    "rbm = Ridge(alpha=.1)"
   ]
  },
  {
   "cell_type": "code",
   "execution_count": 15,
   "id": "73c5eabb-43b0-4767-b04c-5185980be166",
   "metadata": {},
   "outputs": [
    {
     "data": {
      "text/html": [
       "<style>#sk-container-id-1 {color: black;background-color: white;}#sk-container-id-1 pre{padding: 0;}#sk-container-id-1 div.sk-toggleable {background-color: white;}#sk-container-id-1 label.sk-toggleable__label {cursor: pointer;display: block;width: 100%;margin-bottom: 0;padding: 0.3em;box-sizing: border-box;text-align: center;}#sk-container-id-1 label.sk-toggleable__label-arrow:before {content: \"▸\";float: left;margin-right: 0.25em;color: #696969;}#sk-container-id-1 label.sk-toggleable__label-arrow:hover:before {color: black;}#sk-container-id-1 div.sk-estimator:hover label.sk-toggleable__label-arrow:before {color: black;}#sk-container-id-1 div.sk-toggleable__content {max-height: 0;max-width: 0;overflow: hidden;text-align: left;background-color: #f0f8ff;}#sk-container-id-1 div.sk-toggleable__content pre {margin: 0.2em;color: black;border-radius: 0.25em;background-color: #f0f8ff;}#sk-container-id-1 input.sk-toggleable__control:checked~div.sk-toggleable__content {max-height: 200px;max-width: 100%;overflow: auto;}#sk-container-id-1 input.sk-toggleable__control:checked~label.sk-toggleable__label-arrow:before {content: \"▾\";}#sk-container-id-1 div.sk-estimator input.sk-toggleable__control:checked~label.sk-toggleable__label {background-color: #d4ebff;}#sk-container-id-1 div.sk-label input.sk-toggleable__control:checked~label.sk-toggleable__label {background-color: #d4ebff;}#sk-container-id-1 input.sk-hidden--visually {border: 0;clip: rect(1px 1px 1px 1px);clip: rect(1px, 1px, 1px, 1px);height: 1px;margin: -1px;overflow: hidden;padding: 0;position: absolute;width: 1px;}#sk-container-id-1 div.sk-estimator {font-family: monospace;background-color: #f0f8ff;border: 1px dotted black;border-radius: 0.25em;box-sizing: border-box;margin-bottom: 0.5em;}#sk-container-id-1 div.sk-estimator:hover {background-color: #d4ebff;}#sk-container-id-1 div.sk-parallel-item::after {content: \"\";width: 100%;border-bottom: 1px solid gray;flex-grow: 1;}#sk-container-id-1 div.sk-label:hover label.sk-toggleable__label {background-color: #d4ebff;}#sk-container-id-1 div.sk-serial::before {content: \"\";position: absolute;border-left: 1px solid gray;box-sizing: border-box;top: 0;bottom: 0;left: 50%;z-index: 0;}#sk-container-id-1 div.sk-serial {display: flex;flex-direction: column;align-items: center;background-color: white;padding-right: 0.2em;padding-left: 0.2em;position: relative;}#sk-container-id-1 div.sk-item {position: relative;z-index: 1;}#sk-container-id-1 div.sk-parallel {display: flex;align-items: stretch;justify-content: center;background-color: white;position: relative;}#sk-container-id-1 div.sk-item::before, #sk-container-id-1 div.sk-parallel-item::before {content: \"\";position: absolute;border-left: 1px solid gray;box-sizing: border-box;top: 0;bottom: 0;left: 50%;z-index: -1;}#sk-container-id-1 div.sk-parallel-item {display: flex;flex-direction: column;z-index: 1;position: relative;background-color: white;}#sk-container-id-1 div.sk-parallel-item:first-child::after {align-self: flex-end;width: 50%;}#sk-container-id-1 div.sk-parallel-item:last-child::after {align-self: flex-start;width: 50%;}#sk-container-id-1 div.sk-parallel-item:only-child::after {width: 0;}#sk-container-id-1 div.sk-dashed-wrapped {border: 1px dashed gray;margin: 0 0.4em 0.5em 0.4em;box-sizing: border-box;padding-bottom: 0.4em;background-color: white;}#sk-container-id-1 div.sk-label label {font-family: monospace;font-weight: bold;display: inline-block;line-height: 1.2em;}#sk-container-id-1 div.sk-label-container {text-align: center;}#sk-container-id-1 div.sk-container {/* jupyter's `normalize.less` sets `[hidden] { display: none; }` but bootstrap.min.css set `[hidden] { display: none !important; }` so we also need the `!important` here to be able to override the default hidden behavior on the sphinx rendered scikit-learn.org. See: https://github.com/scikit-learn/scikit-learn/issues/21755 */display: inline-block !important;position: relative;}#sk-container-id-1 div.sk-text-repr-fallback {display: none;}</style><div id=\"sk-container-id-1\" class=\"sk-top-container\"><div class=\"sk-text-repr-fallback\"><pre>Ridge(alpha=0.1)</pre><b>In a Jupyter environment, please rerun this cell to show the HTML representation or trust the notebook. <br />On GitHub, the HTML representation is unable to render, please try loading this page with nbviewer.org.</b></div><div class=\"sk-container\" hidden><div class=\"sk-item\"><div class=\"sk-estimator sk-toggleable\"><input class=\"sk-toggleable__control sk-hidden--visually\" id=\"sk-estimator-id-1\" type=\"checkbox\" checked><label for=\"sk-estimator-id-1\" class=\"sk-toggleable__label sk-toggleable__label-arrow\">Ridge</label><div class=\"sk-toggleable__content\"><pre>Ridge(alpha=0.1)</pre></div></div></div></div></div>"
      ],
      "text/plain": [
       "Ridge(alpha=0.1)"
      ]
     },
     "execution_count": 15,
     "metadata": {},
     "output_type": "execute_result"
    }
   ],
   "source": [
    "rbm.fit(train[predictors], train[\"Pts\"])"
   ]
  },
  {
   "cell_type": "code",
   "execution_count": 16,
   "id": "8382cade-c5f4-412f-9415-8924f6afb88a",
   "metadata": {},
   "outputs": [],
   "source": [
    "predictions = rbm.predict(test[predictors])"
   ]
  },
  {
   "cell_type": "code",
   "execution_count": 17,
   "id": "da8242fd-7713-4212-9088-b4b62887c6ac",
   "metadata": {},
   "outputs": [],
   "source": [
    "predictions = pd.DataFrame(predictions, columns=[\"Pred Pts\"], index=test.index)"
   ]
  },
  {
   "cell_type": "code",
   "execution_count": 18,
   "id": "08abeeac-5f86-489b-beeb-f53f74e82605",
   "metadata": {},
   "outputs": [],
   "source": [
    "comb = pd.concat([test[[\"Player\", \"Pts\"]], predictions], axis=1)"
   ]
  },
  {
   "cell_type": "code",
   "execution_count": 19,
   "id": "5a214e6a-418e-414a-a492-14810f811244",
   "metadata": {
    "collapsed": true,
    "jupyter": {
     "outputs_hidden": true
    },
    "tags": []
   },
   "outputs": [
    {
     "data": {
      "text/html": [
       "<div>\n",
       "<style scoped>\n",
       "    .dataframe tbody tr th:only-of-type {\n",
       "        vertical-align: middle;\n",
       "    }\n",
       "\n",
       "    .dataframe tbody tr th {\n",
       "        vertical-align: top;\n",
       "    }\n",
       "\n",
       "    .dataframe thead th {\n",
       "        text-align: right;\n",
       "    }\n",
       "</style>\n",
       "<table border=\"1\" class=\"dataframe\">\n",
       "  <thead>\n",
       "    <tr style=\"text-align: right;\">\n",
       "      <th></th>\n",
       "      <th>Player</th>\n",
       "      <th>Pts</th>\n",
       "      <th>Pred Pts</th>\n",
       "    </tr>\n",
       "  </thead>\n",
       "  <tbody>\n",
       "    <tr>\n",
       "      <th>159</th>\n",
       "      <td>Christian McCaffrey</td>\n",
       "      <td>266.0</td>\n",
       "      <td>253.063576</td>\n",
       "    </tr>\n",
       "    <tr>\n",
       "      <th>161</th>\n",
       "      <td>Josh Jacobs</td>\n",
       "      <td>265.0</td>\n",
       "      <td>261.669609</td>\n",
       "    </tr>\n",
       "    <tr>\n",
       "      <th>199</th>\n",
       "      <td>Austin Ekeler</td>\n",
       "      <td>251.0</td>\n",
       "      <td>261.192048</td>\n",
       "    </tr>\n",
       "    <tr>\n",
       "      <th>200</th>\n",
       "      <td>Derrick Henry</td>\n",
       "      <td>250.0</td>\n",
       "      <td>256.360616</td>\n",
       "    </tr>\n",
       "    <tr>\n",
       "      <th>208</th>\n",
       "      <td>Nick Chubb</td>\n",
       "      <td>249.0</td>\n",
       "      <td>240.840015</td>\n",
       "    </tr>\n",
       "    <tr>\n",
       "      <th>...</th>\n",
       "      <td>...</td>\n",
       "      <td>...</td>\n",
       "      <td>...</td>\n",
       "    </tr>\n",
       "    <tr>\n",
       "      <th>6976</th>\n",
       "      <td>Ty'Son Williams</td>\n",
       "      <td>0.0</td>\n",
       "      <td>-0.911160</td>\n",
       "    </tr>\n",
       "    <tr>\n",
       "      <th>7484</th>\n",
       "      <td>Trestan Ebner</td>\n",
       "      <td>-3.0</td>\n",
       "      <td>3.883189</td>\n",
       "    </tr>\n",
       "    <tr>\n",
       "      <th>7501</th>\n",
       "      <td>Mike Davis</td>\n",
       "      <td>-3.0</td>\n",
       "      <td>0.630974</td>\n",
       "    </tr>\n",
       "    <tr>\n",
       "      <th>7502</th>\n",
       "      <td>Giovani Bernard</td>\n",
       "      <td>-3.0</td>\n",
       "      <td>1.112188</td>\n",
       "    </tr>\n",
       "    <tr>\n",
       "      <th>7534</th>\n",
       "      <td>Demetric Felton</td>\n",
       "      <td>-5.0</td>\n",
       "      <td>-1.124845</td>\n",
       "    </tr>\n",
       "  </tbody>\n",
       "</table>\n",
       "<p>143 rows × 3 columns</p>\n",
       "</div>"
      ],
      "text/plain": [
       "                   Player    Pts    Pred Pts\n",
       "159   Christian McCaffrey  266.0  253.063576\n",
       "161           Josh Jacobs  265.0  261.669609\n",
       "199         Austin Ekeler  251.0  261.192048\n",
       "200         Derrick Henry  250.0  256.360616\n",
       "208            Nick Chubb  249.0  240.840015\n",
       "...                   ...    ...         ...\n",
       "6976      Ty'Son Williams    0.0   -0.911160\n",
       "7484        Trestan Ebner   -3.0    3.883189\n",
       "7501           Mike Davis   -3.0    0.630974\n",
       "7502      Giovani Bernard   -3.0    1.112188\n",
       "7534      Demetric Felton   -5.0   -1.124845\n",
       "\n",
       "[143 rows x 3 columns]"
      ]
     },
     "execution_count": 19,
     "metadata": {},
     "output_type": "execute_result"
    }
   ],
   "source": [
    "comb"
   ]
  },
  {
   "cell_type": "code",
   "execution_count": 20,
   "id": "135288fd-301f-43f2-a13b-eba56bcd356b",
   "metadata": {},
   "outputs": [],
   "source": [
    "from sklearn.metrics import mean_squared_error"
   ]
  },
  {
   "cell_type": "code",
   "execution_count": 21,
   "id": "64a7a4c3-9877-4d25-b4a4-380dbeabc9e9",
   "metadata": {},
   "outputs": [
    {
     "data": {
      "text/plain": [
       "16.457735221563446"
      ]
     },
     "execution_count": 21,
     "metadata": {},
     "output_type": "execute_result"
    }
   ],
   "source": [
    "mean_squared_error(comb[\"Pts\"], comb[\"Pred Pts\"])"
   ]
  },
  {
   "cell_type": "code",
   "execution_count": 22,
   "id": "c6524efd-11e2-453d-bde7-16a76d011eb0",
   "metadata": {},
   "outputs": [],
   "source": [
    "import pickle"
   ]
  },
  {
   "cell_type": "code",
   "execution_count": 23,
   "id": "b5625f01-68bd-42ac-ae87-939984ba6bc5",
   "metadata": {},
   "outputs": [],
   "source": [
    "with open('rbm.pkl', 'wb') as model_file:\n",
    "    pickle.dump(rbm, model_file)"
   ]
  },
  {
   "cell_type": "code",
   "execution_count": 37,
   "id": "2d1af7c6-e3e0-4182-b458-eab23528c53c",
   "metadata": {},
   "outputs": [],
   "source": [
    "rb_proj = pd.read_csv('rb_projections.csv')"
   ]
  },
  {
   "cell_type": "code",
   "execution_count": 38,
   "id": "bf6dc3af-98dc-4838-909c-3bf4fc29c79f",
   "metadata": {},
   "outputs": [],
   "source": [
    "del rb_proj ['Proj Pts']"
   ]
  },
  {
   "cell_type": "code",
   "execution_count": 39,
   "id": "28731b79-ff05-493f-97a8-ff3685a917fc",
   "metadata": {},
   "outputs": [
    {
     "data": {
      "text/plain": [
       "Index(['Player', 'Team', 'Ru Att', 'Ru Yds', 'Ru TDs', 'Tgt', 'Rec', 'Rec Yds',\n",
       "       'Rec TDs'],\n",
       "      dtype='object')"
      ]
     },
     "execution_count": 39,
     "metadata": {},
     "output_type": "execute_result"
    }
   ],
   "source": [
    "rb_proj.columns"
   ]
  },
  {
   "cell_type": "code",
   "execution_count": 40,
   "id": "cd93404d-e361-455f-af9e-4342461f498e",
   "metadata": {},
   "outputs": [],
   "source": [
    "rb_proj.rename(columns={'Ru Att': 'Rushing Att'}, inplace=True)"
   ]
  },
  {
   "cell_type": "code",
   "execution_count": 41,
   "id": "a31ba9fb-82d6-4adf-aec1-25847b571c45",
   "metadata": {},
   "outputs": [],
   "source": [
    "rb_proj.rename(columns={'Ru Yds': 'Rushing Yds'}, inplace=True)"
   ]
  },
  {
   "cell_type": "code",
   "execution_count": 42,
   "id": "6165405b-cb54-45d3-9b8a-946d4dcc209c",
   "metadata": {},
   "outputs": [],
   "source": [
    "rb_proj.rename(columns={'Ru TDs': 'Rushing TD'}, inplace=True)"
   ]
  },
  {
   "cell_type": "code",
   "execution_count": 43,
   "id": "5b5b692c-f717-48a8-8aa4-b1b7c36bd02f",
   "metadata": {},
   "outputs": [],
   "source": [
    "rb_proj.rename(columns={'Rec Yds': 'Receiving Yds'}, inplace=True)"
   ]
  },
  {
   "cell_type": "code",
   "execution_count": 44,
   "id": "f73beb21-b86e-4b08-8a77-8d7da2d64f7c",
   "metadata": {},
   "outputs": [],
   "source": [
    "rb_proj.rename(columns={'Rec TDs': 'Receiving TD'}, inplace=True)"
   ]
  },
  {
   "cell_type": "code",
   "execution_count": 45,
   "id": "3cf162ad-ebb2-48a0-9175-99e549c4b980",
   "metadata": {},
   "outputs": [],
   "source": [
    "rb_proj.rename(columns={'Team': 'Tm'}, inplace=True)"
   ]
  },
  {
   "cell_type": "code",
   "execution_count": 46,
   "id": "533ed318-e2cc-475c-b217-0cfb6bfe4823",
   "metadata": {},
   "outputs": [
    {
     "data": {
      "text/html": [
       "<div>\n",
       "<style scoped>\n",
       "    .dataframe tbody tr th:only-of-type {\n",
       "        vertical-align: middle;\n",
       "    }\n",
       "\n",
       "    .dataframe tbody tr th {\n",
       "        vertical-align: top;\n",
       "    }\n",
       "\n",
       "    .dataframe thead th {\n",
       "        text-align: right;\n",
       "    }\n",
       "</style>\n",
       "<table border=\"1\" class=\"dataframe\">\n",
       "  <thead>\n",
       "    <tr style=\"text-align: right;\">\n",
       "      <th></th>\n",
       "      <th>Player</th>\n",
       "      <th>Tm</th>\n",
       "      <th>Rushing Att</th>\n",
       "      <th>Rushing Yds</th>\n",
       "      <th>Rushing TD</th>\n",
       "      <th>Tgt</th>\n",
       "      <th>Rec</th>\n",
       "      <th>Receiving Yds</th>\n",
       "      <th>Receiving TD</th>\n",
       "    </tr>\n",
       "  </thead>\n",
       "  <tbody>\n",
       "    <tr>\n",
       "      <th>0</th>\n",
       "      <td>Christian McCaffrey</td>\n",
       "      <td>SF</td>\n",
       "      <td>205.2</td>\n",
       "      <td>953.8</td>\n",
       "      <td>7.1</td>\n",
       "      <td>81.80</td>\n",
       "      <td>66.55</td>\n",
       "      <td>566.4</td>\n",
       "      <td>3.80</td>\n",
       "    </tr>\n",
       "    <tr>\n",
       "      <th>1</th>\n",
       "      <td>Austin Ekeler</td>\n",
       "      <td>LAC</td>\n",
       "      <td>187.9</td>\n",
       "      <td>811.5</td>\n",
       "      <td>8.8</td>\n",
       "      <td>84.35</td>\n",
       "      <td>70.00</td>\n",
       "      <td>536.9</td>\n",
       "      <td>4.00</td>\n",
       "    </tr>\n",
       "    <tr>\n",
       "      <th>2</th>\n",
       "      <td>Bijan Robinson</td>\n",
       "      <td>ATL</td>\n",
       "      <td>262.9</td>\n",
       "      <td>1197.0</td>\n",
       "      <td>9.2</td>\n",
       "      <td>50.20</td>\n",
       "      <td>38.55</td>\n",
       "      <td>288.9</td>\n",
       "      <td>1.85</td>\n",
       "    </tr>\n",
       "    <tr>\n",
       "      <th>3</th>\n",
       "      <td>Saquon Barkley</td>\n",
       "      <td>NYG</td>\n",
       "      <td>261.2</td>\n",
       "      <td>1133.5</td>\n",
       "      <td>8.6</td>\n",
       "      <td>68.50</td>\n",
       "      <td>50.95</td>\n",
       "      <td>367.1</td>\n",
       "      <td>1.20</td>\n",
       "    </tr>\n",
       "    <tr>\n",
       "      <th>4</th>\n",
       "      <td>Nick Chubb</td>\n",
       "      <td>CLE</td>\n",
       "      <td>260.8</td>\n",
       "      <td>1292.4</td>\n",
       "      <td>9.4</td>\n",
       "      <td>37.35</td>\n",
       "      <td>29.40</td>\n",
       "      <td>252.6</td>\n",
       "      <td>1.10</td>\n",
       "    </tr>\n",
       "    <tr>\n",
       "      <th>...</th>\n",
       "      <td>...</td>\n",
       "      <td>...</td>\n",
       "      <td>...</td>\n",
       "      <td>...</td>\n",
       "      <td>...</td>\n",
       "      <td>...</td>\n",
       "      <td>...</td>\n",
       "      <td>...</td>\n",
       "      <td>...</td>\n",
       "    </tr>\n",
       "    <tr>\n",
       "      <th>114</th>\n",
       "      <td>Salvon Ahmed</td>\n",
       "      <td>MIA</td>\n",
       "      <td>14.8</td>\n",
       "      <td>64.2</td>\n",
       "      <td>0.3</td>\n",
       "      <td>2.80</td>\n",
       "      <td>1.50</td>\n",
       "      <td>11.0</td>\n",
       "      <td>0.10</td>\n",
       "    </tr>\n",
       "    <tr>\n",
       "      <th>115</th>\n",
       "      <td>Avery Williams</td>\n",
       "      <td>ATL</td>\n",
       "      <td>2.5</td>\n",
       "      <td>10.8</td>\n",
       "      <td>0.1</td>\n",
       "      <td>7.70</td>\n",
       "      <td>6.30</td>\n",
       "      <td>40.9</td>\n",
       "      <td>0.20</td>\n",
       "    </tr>\n",
       "    <tr>\n",
       "      <th>116</th>\n",
       "      <td>Patrick Ricard</td>\n",
       "      <td>BAL</td>\n",
       "      <td>3.3</td>\n",
       "      <td>12.0</td>\n",
       "      <td>NaN</td>\n",
       "      <td>7.90</td>\n",
       "      <td>6.30</td>\n",
       "      <td>43.3</td>\n",
       "      <td>0.20</td>\n",
       "    </tr>\n",
       "    <tr>\n",
       "      <th>117</th>\n",
       "      <td>La'Mical Perine</td>\n",
       "      <td>KC</td>\n",
       "      <td>9.4</td>\n",
       "      <td>34.4</td>\n",
       "      <td>0.2</td>\n",
       "      <td>6.10</td>\n",
       "      <td>1.90</td>\n",
       "      <td>14.5</td>\n",
       "      <td>0.10</td>\n",
       "    </tr>\n",
       "    <tr>\n",
       "      <th>118</th>\n",
       "      <td>Jermar Jefferson</td>\n",
       "      <td>DET</td>\n",
       "      <td>4.1</td>\n",
       "      <td>16.8</td>\n",
       "      <td>0.1</td>\n",
       "      <td>5.70</td>\n",
       "      <td>1.70</td>\n",
       "      <td>14.1</td>\n",
       "      <td>0.10</td>\n",
       "    </tr>\n",
       "  </tbody>\n",
       "</table>\n",
       "<p>119 rows × 9 columns</p>\n",
       "</div>"
      ],
      "text/plain": [
       "                  Player   Tm  Rushing Att  Rushing Yds  Rushing TD    Tgt  \\\n",
       "0    Christian McCaffrey   SF        205.2        953.8         7.1  81.80   \n",
       "1          Austin Ekeler  LAC        187.9        811.5         8.8  84.35   \n",
       "2         Bijan Robinson  ATL        262.9       1197.0         9.2  50.20   \n",
       "3         Saquon Barkley  NYG        261.2       1133.5         8.6  68.50   \n",
       "4             Nick Chubb  CLE        260.8       1292.4         9.4  37.35   \n",
       "..                   ...  ...          ...          ...         ...    ...   \n",
       "114         Salvon Ahmed  MIA         14.8         64.2         0.3   2.80   \n",
       "115       Avery Williams  ATL          2.5         10.8         0.1   7.70   \n",
       "116       Patrick Ricard  BAL          3.3         12.0         NaN   7.90   \n",
       "117      La'Mical Perine   KC          9.4         34.4         0.2   6.10   \n",
       "118     Jermar Jefferson  DET          4.1         16.8         0.1   5.70   \n",
       "\n",
       "       Rec  Receiving Yds  Receiving TD  \n",
       "0    66.55          566.4          3.80  \n",
       "1    70.00          536.9          4.00  \n",
       "2    38.55          288.9          1.85  \n",
       "3    50.95          367.1          1.20  \n",
       "4    29.40          252.6          1.10  \n",
       "..     ...            ...           ...  \n",
       "114   1.50           11.0          0.10  \n",
       "115   6.30           40.9          0.20  \n",
       "116   6.30           43.3          0.20  \n",
       "117   1.90           14.5          0.10  \n",
       "118   1.70           14.1          0.10  \n",
       "\n",
       "[119 rows x 9 columns]"
      ]
     },
     "execution_count": 46,
     "metadata": {},
     "output_type": "execute_result"
    }
   ],
   "source": [
    "rb_proj"
   ]
  },
  {
   "cell_type": "code",
   "execution_count": 47,
   "id": "2d912b20-a1bc-4636-bc14-b3aae9533339",
   "metadata": {},
   "outputs": [],
   "source": [
    "rb_proj = rb_proj.fillna(0)"
   ]
  },
  {
   "cell_type": "code",
   "execution_count": 48,
   "id": "19084694-c7ee-4eb2-891e-eee84b6f8a86",
   "metadata": {},
   "outputs": [],
   "source": [
    "rb_pred = rbm.predict(rb_proj[predictors])"
   ]
  },
  {
   "cell_type": "code",
   "execution_count": 49,
   "id": "80d39203-8c1b-4ebe-88eb-37c1d3b8718b",
   "metadata": {},
   "outputs": [],
   "source": [
    "rb_pred = pd.DataFrame(rb_pred, columns=[\"Pred Pts\"], index=rb_proj.index)"
   ]
  },
  {
   "cell_type": "code",
   "execution_count": 50,
   "id": "1d1395ff-8783-4319-877e-df1d94e633f6",
   "metadata": {},
   "outputs": [],
   "source": [
    "rb_comb = pd.concat([rb_proj[[\"Player\", \"Tm\"]], rb_pred], axis=1)"
   ]
  },
  {
   "cell_type": "code",
   "execution_count": 51,
   "id": "ce8813b3-46a0-40a4-94cb-60908453991d",
   "metadata": {},
   "outputs": [],
   "source": [
    "rb_comb = rb_comb.sort_values(\"Pred Pts\", ascending=False)\n",
    "rb_comb[\"Pred Rk\"] = list(range(1,rb_comb.shape[0]+1))"
   ]
  },
  {
   "cell_type": "code",
   "execution_count": 53,
   "id": "a76e51a2-7373-4b19-9bac-7232e9ac5950",
   "metadata": {},
   "outputs": [
    {
     "data": {
      "text/html": [
       "<div>\n",
       "<style scoped>\n",
       "    .dataframe tbody tr th:only-of-type {\n",
       "        vertical-align: middle;\n",
       "    }\n",
       "\n",
       "    .dataframe tbody tr th {\n",
       "        vertical-align: top;\n",
       "    }\n",
       "\n",
       "    .dataframe thead th {\n",
       "        text-align: right;\n",
       "    }\n",
       "</style>\n",
       "<table border=\"1\" class=\"dataframe\">\n",
       "  <thead>\n",
       "    <tr style=\"text-align: right;\">\n",
       "      <th></th>\n",
       "      <th>Player</th>\n",
       "      <th>Tm</th>\n",
       "      <th>Pred Pts</th>\n",
       "      <th>Pred Rk</th>\n",
       "    </tr>\n",
       "  </thead>\n",
       "  <tbody>\n",
       "    <tr>\n",
       "      <th>0</th>\n",
       "      <td>Christian McCaffrey</td>\n",
       "      <td>SF</td>\n",
       "      <td>206.762027</td>\n",
       "      <td>1</td>\n",
       "    </tr>\n",
       "    <tr>\n",
       "      <th>4</th>\n",
       "      <td>Nick Chubb</td>\n",
       "      <td>CLE</td>\n",
       "      <td>205.605721</td>\n",
       "      <td>2</td>\n",
       "    </tr>\n",
       "    <tr>\n",
       "      <th>2</th>\n",
       "      <td>Bijan Robinson</td>\n",
       "      <td>ATL</td>\n",
       "      <td>203.379599</td>\n",
       "      <td>3</td>\n",
       "    </tr>\n",
       "    <tr>\n",
       "      <th>5</th>\n",
       "      <td>Derrick Henry</td>\n",
       "      <td>TEN</td>\n",
       "      <td>203.189578</td>\n",
       "      <td>4</td>\n",
       "    </tr>\n",
       "    <tr>\n",
       "      <th>1</th>\n",
       "      <td>Austin Ekeler</td>\n",
       "      <td>LAC</td>\n",
       "      <td>202.327339</td>\n",
       "      <td>5</td>\n",
       "    </tr>\n",
       "    <tr>\n",
       "      <th>6</th>\n",
       "      <td>Jonathan Taylor</td>\n",
       "      <td>IND</td>\n",
       "      <td>202.037183</td>\n",
       "      <td>6</td>\n",
       "    </tr>\n",
       "    <tr>\n",
       "      <th>3</th>\n",
       "      <td>Saquon Barkley</td>\n",
       "      <td>NYG</td>\n",
       "      <td>196.812088</td>\n",
       "      <td>7</td>\n",
       "    </tr>\n",
       "    <tr>\n",
       "      <th>7</th>\n",
       "      <td>Tony Pollard</td>\n",
       "      <td>DAL</td>\n",
       "      <td>190.161195</td>\n",
       "      <td>8</td>\n",
       "    </tr>\n",
       "    <tr>\n",
       "      <th>8</th>\n",
       "      <td>Josh Jacobs</td>\n",
       "      <td>LV</td>\n",
       "      <td>189.973463</td>\n",
       "      <td>9</td>\n",
       "    </tr>\n",
       "    <tr>\n",
       "      <th>9</th>\n",
       "      <td>Rhamondre Stevenson</td>\n",
       "      <td>NE</td>\n",
       "      <td>173.220155</td>\n",
       "      <td>10</td>\n",
       "    </tr>\n",
       "  </tbody>\n",
       "</table>\n",
       "</div>"
      ],
      "text/plain": [
       "                Player   Tm    Pred Pts  Pred Rk\n",
       "0  Christian McCaffrey   SF  206.762027        1\n",
       "4           Nick Chubb  CLE  205.605721        2\n",
       "2       Bijan Robinson  ATL  203.379599        3\n",
       "5        Derrick Henry  TEN  203.189578        4\n",
       "1        Austin Ekeler  LAC  202.327339        5\n",
       "6      Jonathan Taylor  IND  202.037183        6\n",
       "3       Saquon Barkley  NYG  196.812088        7\n",
       "7         Tony Pollard  DAL  190.161195        8\n",
       "8          Josh Jacobs   LV  189.973463        9\n",
       "9  Rhamondre Stevenson   NE  173.220155       10"
      ]
     },
     "execution_count": 53,
     "metadata": {},
     "output_type": "execute_result"
    }
   ],
   "source": [
    "rb_comb.head(10)"
   ]
  },
  {
   "cell_type": "code",
   "execution_count": 54,
   "id": "69baf916-da84-4e00-b6b8-98fbc4d1b5ca",
   "metadata": {},
   "outputs": [],
   "source": [
    "rb_comb.to_csv('proj_rb.csv')"
   ]
  },
  {
   "cell_type": "code",
   "execution_count": null,
   "id": "86e845fd-b9d1-4861-8894-39ece5ddf828",
   "metadata": {},
   "outputs": [],
   "source": []
  }
 ],
 "metadata": {
  "kernelspec": {
   "display_name": "Python 3 (ipykernel)",
   "language": "python",
   "name": "python3"
  },
  "language_info": {
   "codemirror_mode": {
    "name": "ipython",
    "version": 3
   },
   "file_extension": ".py",
   "mimetype": "text/x-python",
   "name": "python",
   "nbconvert_exporter": "python",
   "pygments_lexer": "ipython3",
   "version": "3.10.9"
  }
 },
 "nbformat": 4,
 "nbformat_minor": 5
}
