{
 "cells": [
  {
   "cell_type": "code",
   "execution_count": null,
   "id": "cc917970-7d44-4732-bc91-59295c74a155",
   "metadata": {},
   "outputs": [],
   "source": [
    "#creating a range for data collection"
   ]
  },
  {
   "cell_type": "code",
   "execution_count": 19,
   "id": "f67170f5-aaa3-4474-be3c-2f2a1f8af118",
   "metadata": {},
   "outputs": [],
   "source": [
    "years = list(range(2012,2023))"
   ]
  },
  {
   "cell_type": "code",
   "execution_count": 20,
   "id": "1c8d3aea-e47a-49a1-9e51-77cd296a8f38",
   "metadata": {},
   "outputs": [],
   "source": [
    "from selenium import webdriver\n",
    "import requests\n",
    "import time"
   ]
  },
  {
   "cell_type": "code",
   "execution_count": 33,
   "id": "c87cfb6d-7e72-43db-99e1-7a07b189797f",
   "metadata": {},
   "outputs": [],
   "source": [
    "driver = webdriver.Safari()"
   ]
  },
  {
   "cell_type": "code",
   "execution_count": null,
   "id": "e03fd03c-d80e-41c4-89ca-a395f7762e8d",
   "metadata": {},
   "outputs": [],
   "source": [
    "# using selenium to download data-containing files"
   ]
  },
  {
   "cell_type": "code",
   "execution_count": 9,
   "id": "f7aae5f2-7290-4879-95e2-edd307e662d7",
   "metadata": {},
   "outputs": [],
   "source": [
    "url_passing = \"https://www.pro-football-reference.com/years/{}/passing.htm#passing::11\"\n",
    "\n",
    "for year in years:\n",
    "    url = url_passing.format(year)\n",
    "    \n",
    "    driver.get(url)\n",
    "    driver.execute_script(\"window.scrollTo(1,75)\")\n",
    "    time.sleep(2)\n",
    "    \n",
    "    html = driver.page_source\n",
    "    with open(\"passing/{}.html\".format(year), \"w+\") as f:\n",
    "        f.write(html)"
   ]
  },
  {
   "cell_type": "code",
   "execution_count": 10,
   "id": "bf216387-38de-4497-bd8f-96388cce4df0",
   "metadata": {},
   "outputs": [],
   "source": [
    "url_rushing = \"https://www.pro-football-reference.com/years/{}/rushing.htm#rushing\"\n",
    "\n",
    "for year in years:\n",
    "    url = url_rushing.format(year)\n",
    "    \n",
    "    driver.get(url)\n",
    "    driver.execute_script(\"window.scrollTo(1,75)\")\n",
    "    time.sleep(2)\n",
    "    \n",
    "    html = driver.page_source\n",
    "    with open(\"rushing/{}.html\".format(year), \"w+\") as f:\n",
    "        f.write(html)"
   ]
  },
  {
   "cell_type": "code",
   "execution_count": 11,
   "id": "0cf8803f-ce41-4667-84cf-366a4a18b781",
   "metadata": {},
   "outputs": [],
   "source": [
    "url_rec = \"https://www.pro-football-reference.com/years/{}/receiving.htm#receiving\"\n",
    "\n",
    "for year in years:\n",
    "    url = url_rec.format(year)\n",
    "    \n",
    "    driver.get(url)\n",
    "    driver.execute_script(\"window.scrollTo(1,75)\")\n",
    "    time.sleep(2)\n",
    "    \n",
    "    html = driver.page_source\n",
    "    with open(\"receiving/{}.html\".format(year), \"w+\") as f:\n",
    "        f.write(html)"
   ]
  },
  {
   "cell_type": "code",
   "execution_count": 12,
   "id": "5cb5d28c-cff9-4751-abbb-b8ee28f147be",
   "metadata": {},
   "outputs": [],
   "source": [
    "url_scrim = \"https://www.pro-football-reference.com/years/{}/scrimmage.htm#receiving_and_rushing\"\n",
    "\n",
    "for year in years:\n",
    "    url = url_scrim.format(year)\n",
    "    \n",
    "    driver.get(url)\n",
    "    driver.execute_script(\"window.scrollTo(1,75)\")\n",
    "    time.sleep(2)\n",
    "    \n",
    "    html = driver.page_source\n",
    "    with open(\"scrimmage/{}.html\".format(year), \"w+\") as f:\n",
    "        f.write(html)"
   ]
  },
  {
   "cell_type": "code",
   "execution_count": 13,
   "id": "9c86cfd1-139a-4efc-bb73-e02a2dfd769a",
   "metadata": {},
   "outputs": [],
   "source": [
    "url_kick = \"https://www.pro-football-reference.com/years/{}/kicking.htm#kicking\"\n",
    "\n",
    "for year in years:\n",
    "    url = url_kick.format(year)\n",
    "    \n",
    "    driver.get(url)\n",
    "    driver.execute_script(\"window.scrollTo(1,75)\")\n",
    "    time.sleep(2)\n",
    "    \n",
    "    html = driver.page_source\n",
    "    with open(\"kicking/{}.html\".format(year), \"w+\") as f:\n",
    "        f.write(html)"
   ]
  },
  {
   "cell_type": "code",
   "execution_count": 16,
   "id": "0fff9283-6bc1-4a05-b888-279e84daf013",
   "metadata": {},
   "outputs": [],
   "source": [
    "url_def = \"https://www.pro-football-reference.com/years/{}/opp.htm#team_stats\"\n",
    "\n",
    "for year in years:\n",
    "    url = url_def.format(year)\n",
    "    \n",
    "    driver.get(url)\n",
    "    driver.execute_script(\"window.scrollTo(1,75)\")\n",
    "    time.sleep(2)\n",
    "    \n",
    "    html = driver.page_source\n",
    "    with open(\"defense/{}.html\".format(year), \"w+\") as f:\n",
    "        f.write(html)"
   ]
  },
  {
   "cell_type": "code",
   "execution_count": null,
   "id": "3cc5667d-f9bb-440c-834e-f74ebe8c07c1",
   "metadata": {},
   "outputs": [],
   "source": [
    "# parsing the .htm files for data\n",
    "# then saving the parsed data as a .csv file"
   ]
  },
  {
   "cell_type": "code",
   "execution_count": 21,
   "id": "8b61c728-2727-4fcd-b1c2-17ec3fbf4c0e",
   "metadata": {},
   "outputs": [],
   "source": [
    "from bs4 import BeautifulSoup\n",
    "import pandas as pd"
   ]
  },
  {
   "cell_type": "code",
   "execution_count": 22,
   "id": "8733726b-28c2-467b-8953-41db4ffffddf",
   "metadata": {},
   "outputs": [],
   "source": [
    "dfs = []\n",
    "for year in years:\n",
    "    with open(\"passing/{}.html\".format(year)) as f:\n",
    "            page = f.read()\n",
    "\n",
    "    soup = BeautifulSoup(page, \"html.parser\")\n",
    "    \n",
    "    for thead_row in soup.find_all('tr', class_=\"thead\"):\n",
    "        thead_row.decompose()\n",
    "    \n",
    "    for row_class in soup.find_all('tr', class_=\"average_table no_ranker\"):\n",
    "        row_class.decompose()\n",
    "        \n",
    "    for row_class in soup.find_all('tr', class_=\"league_total\"):\n",
    "        row_class.decompose()\n",
    "        \n",
    "    for row_class in soup.find_all('tr', class_=\"average_line\"):\n",
    "        row_class.decompose()\n",
    "    \n",
    "    passing_table = soup.find(id=\"div_passing\")\n",
    "    passing = pd.read_html(str(passing_table))[0]\n",
    "    passing[\"Year\"] = year\n",
    "    dfs.append(passing)"
   ]
  },
  {
   "cell_type": "code",
   "execution_count": 38,
   "id": "712fc1dd-d9d2-47e0-b513-287f518d4af7",
   "metadata": {},
   "outputs": [],
   "source": [
    "passing = pd.concat(dfs)"
   ]
  },
  {
   "cell_type": "code",
   "execution_count": 39,
   "id": "2ecf1449-9c9a-4232-97d3-75ca70070500",
   "metadata": {},
   "outputs": [],
   "source": [
    "passing.to_csv(\"passing.csv\")"
   ]
  },
  {
   "cell_type": "code",
   "execution_count": 68,
   "id": "1a6d4e77-1eff-4d15-89c0-196ddba14018",
   "metadata": {},
   "outputs": [],
   "source": [
    "dfs = []\n",
    "for year in years:\n",
    "    with open(\"rushing/{}.html\".format(year)) as f:\n",
    "            page = f.read()\n",
    "\n",
    "    soup = BeautifulSoup(page, \"html.parser\")\n",
    "    \n",
    "    for thead_row in soup.find_all('tr', class_=\"thead\"):\n",
    "        thead_row.decompose()\n",
    "    \n",
    "    for row_class in soup.find_all('tr', class_=\"average_table no_ranker\"):\n",
    "        row_class.decompose()\n",
    "        \n",
    "    for row_class in soup.find_all('tr', class_=\"league_total\"):\n",
    "        row_class.decompose()\n",
    "        \n",
    "    for row_class in soup.find_all('tr', class_=\"average_line\"):\n",
    "        row_class.decompose()\n",
    "    \n",
    "    rushing_table = soup.find(id=\"div_rushing\")\n",
    "    rushing = pd.read_html(str(rushing_table))[0]\n",
    "    rushing[\"Year\"] = year\n",
    "    dfs.append(rushing)"
   ]
  },
  {
   "cell_type": "code",
   "execution_count": 73,
   "id": "cfdb99d8-35db-4986-ac49-7bb579e80702",
   "metadata": {},
   "outputs": [],
   "source": [
    "rushing = pd.concat(dfs)"
   ]
  },
  {
   "cell_type": "code",
   "execution_count": 74,
   "id": "85767462-ca37-433d-9d50-2b29abb7ca4b",
   "metadata": {},
   "outputs": [],
   "source": [
    "rushing.columns = rushing.columns.droplevel(0)"
   ]
  },
  {
   "cell_type": "code",
   "execution_count": 75,
   "id": "d5c7ef4d-9e93-4c94-800e-e8a0343778e7",
   "metadata": {},
   "outputs": [],
   "source": [
    "rushing.to_csv(\"rushing.csv\")"
   ]
  },
  {
   "cell_type": "code",
   "execution_count": 44,
   "id": "868737a7-e05e-4e0e-8b3b-9f7e5a94b13e",
   "metadata": {},
   "outputs": [],
   "source": [
    "dfs = []\n",
    "for year in years:\n",
    "    with open(\"receiving/{}.html\".format(year)) as f:\n",
    "            page = f.read()\n",
    "\n",
    "    soup = BeautifulSoup(page, \"html.parser\")\n",
    "    \n",
    "    for thead_row in soup.find_all('tr', class_=\"thead\"):\n",
    "        thead_row.decompose()\n",
    "    \n",
    "    for row_class in soup.find_all('tr', class_=\"average_table no_ranker\"):\n",
    "        row_class.decompose()\n",
    "        \n",
    "    for row_class in soup.find_all('tr', class_=\"league_total\"):\n",
    "        row_class.decompose()\n",
    "        \n",
    "    for row_class in soup.find_all('tr', class_=\"average_line\"):\n",
    "        row_class.decompose()\n",
    "    \n",
    "    rec_table = soup.find(id=\"div_receiving\")\n",
    "    rec = pd.read_html(str(rec_table))[0]\n",
    "    rec[\"Year\"] = year\n",
    "    dfs.append(rec)"
   ]
  },
  {
   "cell_type": "code",
   "execution_count": 45,
   "id": "5da3b582-8fd4-4345-b2ac-580650bc906c",
   "metadata": {},
   "outputs": [],
   "source": [
    "rec = pd.concat(dfs)"
   ]
  },
  {
   "cell_type": "code",
   "execution_count": 47,
   "id": "9269aadb-df5c-479e-bf45-094175e5a3c8",
   "metadata": {},
   "outputs": [],
   "source": [
    "rec.to_csv(\"receiving.csv\")"
   ]
  },
  {
   "cell_type": "code",
   "execution_count": 76,
   "id": "565f3136-917a-43b5-a7d8-6c32e0e58316",
   "metadata": {},
   "outputs": [],
   "source": [
    "dfs = []\n",
    "for year in years:\n",
    "    with open(\"scrimmage/{}.html\".format(year)) as f:\n",
    "            page = f.read()\n",
    "\n",
    "    soup = BeautifulSoup(page, \"html.parser\")\n",
    "    \n",
    "    for thead_row in soup.find_all('tr', class_=\"thead\"):\n",
    "        thead_row.decompose()\n",
    "    \n",
    "    for row_class in soup.find_all('tr', class_=\"average_table no_ranker\"):\n",
    "        row_class.decompose()\n",
    "        \n",
    "    for row_class in soup.find_all('tr', class_=\"league_total\"):\n",
    "        row_class.decompose()\n",
    "        \n",
    "    for row_class in soup.find_all('tr', class_=\"average_line\"):\n",
    "        row_class.decompose()\n",
    "    \n",
    "    scrim_table = soup.find(id=\"div_receiving_and_rushing\")\n",
    "    scrim = pd.read_html(str(scrim_table))[0]\n",
    "    scrim[\"Year\"] = year\n",
    "    dfs.append(scrim)"
   ]
  },
  {
   "cell_type": "code",
   "execution_count": 77,
   "id": "546efe25-90b7-4549-af45-1ebf9acc52fa",
   "metadata": {},
   "outputs": [],
   "source": [
    "scrim = pd.concat(dfs)"
   ]
  },
  {
   "cell_type": "code",
   "execution_count": 78,
   "id": "c0b18bbd-0f38-41e7-9196-5333a0e9bc7b",
   "metadata": {},
   "outputs": [],
   "source": [
    "scrim.columns = scrim.columns.droplevel(0)"
   ]
  },
  {
   "cell_type": "code",
   "execution_count": 79,
   "id": "9bf0e2ad-60de-486e-bfdf-6336cc09891c",
   "metadata": {},
   "outputs": [],
   "source": [
    "scrim.to_csv(\"scrimmage.csv\")"
   ]
  },
  {
   "cell_type": "code",
   "execution_count": 80,
   "id": "7fbd696f-3cf5-47c5-9c0b-65d026b8cbd3",
   "metadata": {},
   "outputs": [],
   "source": [
    "dfs = []\n",
    "for year in years:\n",
    "    with open(\"defense/{}.html\".format(year)) as f:\n",
    "            page = f.read()\n",
    "\n",
    "    soup = BeautifulSoup(page, \"html.parser\")\n",
    "    \n",
    "    for thead_row in soup.find_all('tr', class_=\"thead\"):\n",
    "        thead_row.decompose()\n",
    "    \n",
    "    for row_class in soup.find_all('tr', class_=\"average_table no_ranker\"):\n",
    "        row_class.decompose()\n",
    "        \n",
    "    for row_class in soup.find_all('tr', class_=\"league_total\"):\n",
    "        row_class.decompose()\n",
    "        \n",
    "    for row_class in soup.find_all('tr', class_=\"average_line\"):\n",
    "        row_class.decompose()\n",
    "    \n",
    "    def_table = soup.find(id=\"div_team_stats\")\n",
    "    defense = pd.read_html(str(def_table))[0]\n",
    "    defense[\"Year\"] = year\n",
    "    dfs.append(defense)"
   ]
  },
  {
   "cell_type": "code",
   "execution_count": 81,
   "id": "ce5ba0e3-1694-4b0a-8ba5-a3e9fef01467",
   "metadata": {},
   "outputs": [],
   "source": [
    "defense = pd.concat(dfs)"
   ]
  },
  {
   "cell_type": "code",
   "execution_count": 82,
   "id": "f0cf11af-5c18-403e-9791-6131ef945973",
   "metadata": {},
   "outputs": [],
   "source": [
    "defense.columns = defense.columns.droplevel(0)"
   ]
  },
  {
   "cell_type": "code",
   "execution_count": 83,
   "id": "aea3fac2-1233-4fa9-868d-6a6989120b6d",
   "metadata": {},
   "outputs": [],
   "source": [
    "defense.to_csv(\"defense.csv\")"
   ]
  },
  {
   "cell_type": "code",
   "execution_count": 38,
   "id": "e246fd6a-b17e-4eae-a901-56b1a7257fc5",
   "metadata": {},
   "outputs": [],
   "source": [
    "dfs = []\n",
    "for year in years:\n",
    "    with open(\"kicking/{}.html\".format(year)) as f:\n",
    "            page = f.read()\n",
    "\n",
    "    soup = BeautifulSoup(page, \"html.parser\")\n",
    "    \n",
    "    for thead_row in soup.find_all('tr', class_=\"thead\"):\n",
    "        thead_row.decompose()\n",
    "    \n",
    "    for row_class in soup.find_all('tr', class_=\"average_table no_ranker\"):\n",
    "        row_class.decompose()\n",
    "        \n",
    "    for row_class in soup.find_all('tr', class_=\"league_total\"):\n",
    "        row_class.decompose()\n",
    "        \n",
    "    for row_class in soup.find_all('tr', class_=\"average_line\"):\n",
    "        row_class.decompose()\n",
    "    \n",
    "    kick_table = soup.find(id=\"div_kicking\")\n",
    "    kick = pd.read_html(str(kick_table))[0]\n",
    "    kick[\"Year\"] = year\n",
    "    dfs.append(kick)"
   ]
  },
  {
   "cell_type": "code",
   "execution_count": 39,
   "id": "2b1167c4-0b8c-4bf5-9302-9636c69c089f",
   "metadata": {},
   "outputs": [],
   "source": [
    "kick = pd.concat(dfs)"
   ]
  },
  {
   "cell_type": "code",
   "execution_count": 40,
   "id": "fd0c72c2-b090-4fe8-b6fa-bf681c7223b6",
   "metadata": {},
   "outputs": [],
   "source": [
    "kick.columns = kick.columns.droplevel(0)"
   ]
  },
  {
   "cell_type": "code",
   "execution_count": 41,
   "id": "2ea53ee6-f5ff-4ef8-8510-3acd5614a95d",
   "metadata": {},
   "outputs": [],
   "source": [
    "kick.to_csv(\"kicking.csv\")"
   ]
  },
  {
   "cell_type": "code",
   "execution_count": null,
   "id": "8051500c-f525-481d-ba71-71c04d364421",
   "metadata": {},
   "outputs": [],
   "source": [
    "# retroactively adding more data"
   ]
  },
  {
   "cell_type": "code",
   "execution_count": 34,
   "id": "8678d110-0275-44ec-a12e-4244333ded08",
   "metadata": {},
   "outputs": [],
   "source": [
    "scoring_def_url = \"https://www.pro-football-reference.com/years/2022/opp.htm#team_scoring\"\n",
    "\n",
    "for year in years:\n",
    "    url = scoring_def_url.format(year)\n",
    "    \n",
    "    driver.get(url)\n",
    "    driver.execute_script(\"window.scrollTo(1,75)\")\n",
    "    time.sleep(2)\n",
    "    \n",
    "    html = driver.page_source\n",
    "    with open(\"special_tm/{}.html\".format(year), \"w+\") as f:\n",
    "        f.write(html)"
   ]
  },
  {
   "cell_type": "code",
   "execution_count": 35,
   "id": "3ce81643-2bcd-47ec-b2a8-a1764198bb32",
   "metadata": {
    "tags": []
   },
   "outputs": [],
   "source": [
    "dfs = []\n",
    "for year in years:\n",
    "    with open(\"special_tm/{}.html\".format(year)) as f:\n",
    "            page = f.read()\n",
    "\n",
    "    soup = BeautifulSoup(page, \"html.parser\")\n",
    "    \n",
    "    for thead_row in soup.find_all('tr', class_=\"thead\"):\n",
    "        thead_row.decompose()\n",
    "    \n",
    "    for row_class in soup.find_all('tr', class_=\"average_table no_ranker\"):\n",
    "        row_class.decompose()\n",
    "        \n",
    "    for row_class in soup.find_all('tr', class_=\"league_total\"):\n",
    "        row_class.decompose()\n",
    "        \n",
    "    for row_class in soup.find_all('tr', class_=\"average_line\"):\n",
    "        row_class.decompose()\n",
    "    \n",
    "    stm_table = soup.find(id=\"div_team_scoring\")\n",
    "    sp_tm = pd.read_html(str(stm_table))[0]\n",
    "    sp_tm[\"Year\"] = year\n",
    "    dfs.append(sp_tm)"
   ]
  },
  {
   "cell_type": "code",
   "execution_count": 36,
   "id": "585df56d-09f6-4e14-a9b9-a8f47defe32b",
   "metadata": {},
   "outputs": [],
   "source": [
    "sp_tm = pd.concat(dfs)"
   ]
  },
  {
   "cell_type": "code",
   "execution_count": 37,
   "id": "9ee5809f-d0c0-4d86-bbdf-63ae58d8d7c1",
   "metadata": {},
   "outputs": [],
   "source": [
    "sp_tm.to_csv(\"special_teams.csv\")"
   ]
  },
  {
   "cell_type": "code",
   "execution_count": null,
   "id": "a5b29002-cd02-4965-8f63-693e84d7e204",
   "metadata": {},
   "outputs": [],
   "source": []
  }
 ],
 "metadata": {
  "kernelspec": {
   "display_name": "Python 3 (ipykernel)",
   "language": "python",
   "name": "python3"
  },
  "language_info": {
   "codemirror_mode": {
    "name": "ipython",
    "version": 3
   },
   "file_extension": ".py",
   "mimetype": "text/x-python",
   "name": "python",
   "nbconvert_exporter": "python",
   "pygments_lexer": "ipython3",
   "version": "3.10.9"
  }
 },
 "nbformat": 4,
 "nbformat_minor": 5
}
