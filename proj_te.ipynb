{
 "cells": [
  {
   "cell_type": "code",
   "execution_count": null,
   "id": "7268b1dc-ccde-40fd-a70a-5771f0a1c582",
   "metadata": {},
   "outputs": [],
   "source": [
    "# te model and predictions"
   ]
  },
  {
   "cell_type": "code",
   "execution_count": 1,
   "id": "af29008f-0df7-4a43-b171-cdd4d891630a",
   "metadata": {},
   "outputs": [],
   "source": [
    "import pandas as pd"
   ]
  },
  {
   "cell_type": "code",
   "execution_count": 2,
   "id": "7402d3d3-a070-4b90-b781-bdc79e89e1de",
   "metadata": {},
   "outputs": [],
   "source": [
    "stats = pd.read_csv(\"ffb_stats.csv\")"
   ]
  },
  {
   "cell_type": "code",
   "execution_count": 3,
   "id": "326a5828-d92a-41c2-a5e8-464814382250",
   "metadata": {},
   "outputs": [],
   "source": [
    "feats = ['Player','Tm','Pos','Year','Pts','Tgt','Rec','Receiving Yds','Receiving TD']"
   ]
  },
  {
   "cell_type": "code",
   "execution_count": 4,
   "id": "c374ff68-4b2b-4f80-ae06-3fa50eb7ed66",
   "metadata": {},
   "outputs": [],
   "source": [
    "ffb_te = stats[stats['Pos'] == 'TE']"
   ]
  },
  {
   "cell_type": "code",
   "execution_count": 5,
   "id": "5d34fec4-aeb6-4622-9997-fc45e3458373",
   "metadata": {},
   "outputs": [],
   "source": [
    "te = ffb_te[feats]"
   ]
  },
  {
   "cell_type": "code",
   "execution_count": 6,
   "id": "735cfaf4-a72a-47ae-9bc0-637d226f3df7",
   "metadata": {},
   "outputs": [],
   "source": [
    "predictors = ['Tgt','Rec','Receiving Yds','Receiving TD']"
   ]
  },
  {
   "cell_type": "code",
   "execution_count": 8,
   "id": "87bc3ec0-6ee0-47c7-9230-34c1d97cf372",
   "metadata": {},
   "outputs": [],
   "source": [
    "train = te[te['Year'] < 2022]\n",
    "test = te[te['Year'] == 2022]"
   ]
  },
  {
   "cell_type": "code",
   "execution_count": 9,
   "id": "0b275e1d-336d-4ff0-8e96-0682af5c6b9e",
   "metadata": {},
   "outputs": [],
   "source": [
    "from sklearn.linear_model import Ridge\n",
    "\n",
    "tem = Ridge(alpha=.1)"
   ]
  },
  {
   "cell_type": "code",
   "execution_count": 10,
   "id": "c80293e2-6e72-47c1-9d14-b9e3f99d2733",
   "metadata": {},
   "outputs": [
    {
     "data": {
      "text/html": [
       "<style>#sk-container-id-1 {color: black;background-color: white;}#sk-container-id-1 pre{padding: 0;}#sk-container-id-1 div.sk-toggleable {background-color: white;}#sk-container-id-1 label.sk-toggleable__label {cursor: pointer;display: block;width: 100%;margin-bottom: 0;padding: 0.3em;box-sizing: border-box;text-align: center;}#sk-container-id-1 label.sk-toggleable__label-arrow:before {content: \"▸\";float: left;margin-right: 0.25em;color: #696969;}#sk-container-id-1 label.sk-toggleable__label-arrow:hover:before {color: black;}#sk-container-id-1 div.sk-estimator:hover label.sk-toggleable__label-arrow:before {color: black;}#sk-container-id-1 div.sk-toggleable__content {max-height: 0;max-width: 0;overflow: hidden;text-align: left;background-color: #f0f8ff;}#sk-container-id-1 div.sk-toggleable__content pre {margin: 0.2em;color: black;border-radius: 0.25em;background-color: #f0f8ff;}#sk-container-id-1 input.sk-toggleable__control:checked~div.sk-toggleable__content {max-height: 200px;max-width: 100%;overflow: auto;}#sk-container-id-1 input.sk-toggleable__control:checked~label.sk-toggleable__label-arrow:before {content: \"▾\";}#sk-container-id-1 div.sk-estimator input.sk-toggleable__control:checked~label.sk-toggleable__label {background-color: #d4ebff;}#sk-container-id-1 div.sk-label input.sk-toggleable__control:checked~label.sk-toggleable__label {background-color: #d4ebff;}#sk-container-id-1 input.sk-hidden--visually {border: 0;clip: rect(1px 1px 1px 1px);clip: rect(1px, 1px, 1px, 1px);height: 1px;margin: -1px;overflow: hidden;padding: 0;position: absolute;width: 1px;}#sk-container-id-1 div.sk-estimator {font-family: monospace;background-color: #f0f8ff;border: 1px dotted black;border-radius: 0.25em;box-sizing: border-box;margin-bottom: 0.5em;}#sk-container-id-1 div.sk-estimator:hover {background-color: #d4ebff;}#sk-container-id-1 div.sk-parallel-item::after {content: \"\";width: 100%;border-bottom: 1px solid gray;flex-grow: 1;}#sk-container-id-1 div.sk-label:hover label.sk-toggleable__label {background-color: #d4ebff;}#sk-container-id-1 div.sk-serial::before {content: \"\";position: absolute;border-left: 1px solid gray;box-sizing: border-box;top: 0;bottom: 0;left: 50%;z-index: 0;}#sk-container-id-1 div.sk-serial {display: flex;flex-direction: column;align-items: center;background-color: white;padding-right: 0.2em;padding-left: 0.2em;position: relative;}#sk-container-id-1 div.sk-item {position: relative;z-index: 1;}#sk-container-id-1 div.sk-parallel {display: flex;align-items: stretch;justify-content: center;background-color: white;position: relative;}#sk-container-id-1 div.sk-item::before, #sk-container-id-1 div.sk-parallel-item::before {content: \"\";position: absolute;border-left: 1px solid gray;box-sizing: border-box;top: 0;bottom: 0;left: 50%;z-index: -1;}#sk-container-id-1 div.sk-parallel-item {display: flex;flex-direction: column;z-index: 1;position: relative;background-color: white;}#sk-container-id-1 div.sk-parallel-item:first-child::after {align-self: flex-end;width: 50%;}#sk-container-id-1 div.sk-parallel-item:last-child::after {align-self: flex-start;width: 50%;}#sk-container-id-1 div.sk-parallel-item:only-child::after {width: 0;}#sk-container-id-1 div.sk-dashed-wrapped {border: 1px dashed gray;margin: 0 0.4em 0.5em 0.4em;box-sizing: border-box;padding-bottom: 0.4em;background-color: white;}#sk-container-id-1 div.sk-label label {font-family: monospace;font-weight: bold;display: inline-block;line-height: 1.2em;}#sk-container-id-1 div.sk-label-container {text-align: center;}#sk-container-id-1 div.sk-container {/* jupyter's `normalize.less` sets `[hidden] { display: none; }` but bootstrap.min.css set `[hidden] { display: none !important; }` so we also need the `!important` here to be able to override the default hidden behavior on the sphinx rendered scikit-learn.org. See: https://github.com/scikit-learn/scikit-learn/issues/21755 */display: inline-block !important;position: relative;}#sk-container-id-1 div.sk-text-repr-fallback {display: none;}</style><div id=\"sk-container-id-1\" class=\"sk-top-container\"><div class=\"sk-text-repr-fallback\"><pre>Ridge(alpha=0.1)</pre><b>In a Jupyter environment, please rerun this cell to show the HTML representation or trust the notebook. <br />On GitHub, the HTML representation is unable to render, please try loading this page with nbviewer.org.</b></div><div class=\"sk-container\" hidden><div class=\"sk-item\"><div class=\"sk-estimator sk-toggleable\"><input class=\"sk-toggleable__control sk-hidden--visually\" id=\"sk-estimator-id-1\" type=\"checkbox\" checked><label for=\"sk-estimator-id-1\" class=\"sk-toggleable__label sk-toggleable__label-arrow\">Ridge</label><div class=\"sk-toggleable__content\"><pre>Ridge(alpha=0.1)</pre></div></div></div></div></div>"
      ],
      "text/plain": [
       "Ridge(alpha=0.1)"
      ]
     },
     "execution_count": 10,
     "metadata": {},
     "output_type": "execute_result"
    }
   ],
   "source": [
    "tem.fit(train[predictors], train[\"Pts\"])"
   ]
  },
  {
   "cell_type": "code",
   "execution_count": 11,
   "id": "76f76b9b-58d3-432b-8e3e-3015b22ca6fa",
   "metadata": {},
   "outputs": [],
   "source": [
    "predictions = tem.predict(test[predictors])"
   ]
  },
  {
   "cell_type": "code",
   "execution_count": 12,
   "id": "4e4c3f0a-35fa-406e-85e0-670c71ac6356",
   "metadata": {},
   "outputs": [],
   "source": [
    "predictions = pd.DataFrame(predictions, columns=[\"Pred Pts\"], index=test.index)"
   ]
  },
  {
   "cell_type": "code",
   "execution_count": 13,
   "id": "dd30c5ed-fa8a-4415-ba6b-48912c1fd379",
   "metadata": {},
   "outputs": [],
   "source": [
    "comb = pd.concat([test[[\"Player\", \"Pts\"]], predictions], axis=1)"
   ]
  },
  {
   "cell_type": "code",
   "execution_count": 14,
   "id": "1dca6ff9-eb44-46db-8233-0a5ed625aeb6",
   "metadata": {
    "collapsed": true,
    "jupyter": {
     "outputs_hidden": true
    },
    "tags": []
   },
   "outputs": [
    {
     "data": {
      "text/html": [
       "<div>\n",
       "<style scoped>\n",
       "    .dataframe tbody tr th:only-of-type {\n",
       "        vertical-align: middle;\n",
       "    }\n",
       "\n",
       "    .dataframe tbody tr th {\n",
       "        vertical-align: top;\n",
       "    }\n",
       "\n",
       "    .dataframe thead th {\n",
       "        text-align: right;\n",
       "    }\n",
       "</style>\n",
       "<table border=\"1\" class=\"dataframe\">\n",
       "  <thead>\n",
       "    <tr style=\"text-align: right;\">\n",
       "      <th></th>\n",
       "      <th>Player</th>\n",
       "      <th>Pts</th>\n",
       "      <th>Pred Pts</th>\n",
       "    </tr>\n",
       "  </thead>\n",
       "  <tbody>\n",
       "    <tr>\n",
       "      <th>348</th>\n",
       "      <td>Travis Kelce</td>\n",
       "      <td>201.0</td>\n",
       "      <td>203.050183</td>\n",
       "    </tr>\n",
       "    <tr>\n",
       "      <th>884</th>\n",
       "      <td>George Kittle</td>\n",
       "      <td>140.0</td>\n",
       "      <td>140.782033</td>\n",
       "    </tr>\n",
       "    <tr>\n",
       "      <th>1093</th>\n",
       "      <td>Taysom Hill</td>\n",
       "      <td>127.0</td>\n",
       "      <td>19.025459</td>\n",
       "    </tr>\n",
       "    <tr>\n",
       "      <th>1124</th>\n",
       "      <td>T.J. Hockenson</td>\n",
       "      <td>125.0</td>\n",
       "      <td>125.189475</td>\n",
       "    </tr>\n",
       "    <tr>\n",
       "      <th>1370</th>\n",
       "      <td>Mark Andrews</td>\n",
       "      <td>110.0</td>\n",
       "      <td>112.806894</td>\n",
       "    </tr>\n",
       "    <tr>\n",
       "      <th>...</th>\n",
       "      <td>...</td>\n",
       "      <td>...</td>\n",
       "      <td>...</td>\n",
       "    </tr>\n",
       "    <tr>\n",
       "      <th>6998</th>\n",
       "      <td>Richard Rodgers</td>\n",
       "      <td>0.0</td>\n",
       "      <td>-0.074565</td>\n",
       "    </tr>\n",
       "    <tr>\n",
       "      <th>7018</th>\n",
       "      <td>Stephen Anderson</td>\n",
       "      <td>0.0</td>\n",
       "      <td>0.379291</td>\n",
       "    </tr>\n",
       "    <tr>\n",
       "      <th>7019</th>\n",
       "      <td>Devin Asiasi</td>\n",
       "      <td>0.0</td>\n",
       "      <td>-0.008158</td>\n",
       "    </tr>\n",
       "    <tr>\n",
       "      <th>7022</th>\n",
       "      <td>Mason Schreck</td>\n",
       "      <td>0.0</td>\n",
       "      <td>0.079087</td>\n",
       "    </tr>\n",
       "    <tr>\n",
       "      <th>7282</th>\n",
       "      <td>Drew Sample</td>\n",
       "      <td>-1.0</td>\n",
       "      <td>-0.724308</td>\n",
       "    </tr>\n",
       "  </tbody>\n",
       "</table>\n",
       "<p>118 rows × 3 columns</p>\n",
       "</div>"
      ],
      "text/plain": [
       "                Player    Pts    Pred Pts\n",
       "348       Travis Kelce  201.0  203.050183\n",
       "884      George Kittle  140.0  140.782033\n",
       "1093       Taysom Hill  127.0   19.025459\n",
       "1124    T.J. Hockenson  125.0  125.189475\n",
       "1370      Mark Andrews  110.0  112.806894\n",
       "...                ...    ...         ...\n",
       "6998   Richard Rodgers    0.0   -0.074565\n",
       "7018  Stephen Anderson    0.0    0.379291\n",
       "7019      Devin Asiasi    0.0   -0.008158\n",
       "7022     Mason Schreck    0.0    0.079087\n",
       "7282       Drew Sample   -1.0   -0.724308\n",
       "\n",
       "[118 rows x 3 columns]"
      ]
     },
     "execution_count": 14,
     "metadata": {},
     "output_type": "execute_result"
    }
   ],
   "source": [
    "comb"
   ]
  },
  {
   "cell_type": "code",
   "execution_count": 15,
   "id": "99d4c125-7cff-4856-a87d-37a11f688d1e",
   "metadata": {},
   "outputs": [],
   "source": [
    "from sklearn.metrics import mean_squared_error"
   ]
  },
  {
   "cell_type": "code",
   "execution_count": 16,
   "id": "d66103f1-9e14-477d-a14a-f356cba79988",
   "metadata": {},
   "outputs": [
    {
     "data": {
      "text/plain": [
       "101.0507634879643"
      ]
     },
     "execution_count": 16,
     "metadata": {},
     "output_type": "execute_result"
    }
   ],
   "source": [
    "mean_squared_error(comb[\"Pts\"], comb[\"Pred Pts\"])"
   ]
  },
  {
   "cell_type": "code",
   "execution_count": 17,
   "id": "52007f52-e380-4a59-b6b3-5a6f5b51bb5e",
   "metadata": {},
   "outputs": [],
   "source": [
    "import pickle"
   ]
  },
  {
   "cell_type": "code",
   "execution_count": 18,
   "id": "e50e65a2-947f-4184-9d0a-c46f2a8011f9",
   "metadata": {},
   "outputs": [],
   "source": [
    "with open('tem.pkl', 'wb') as model_file:\n",
    "    pickle.dump(tem, model_file)"
   ]
  },
  {
   "cell_type": "code",
   "execution_count": 19,
   "id": "cac83271-43eb-464f-8a85-1533fb22d1cd",
   "metadata": {},
   "outputs": [],
   "source": [
    "te_proj = pd.read_csv('te_projections.csv')"
   ]
  },
  {
   "cell_type": "code",
   "execution_count": 20,
   "id": "46eb43ef-7ae1-469a-9e1c-b804e045b04a",
   "metadata": {},
   "outputs": [],
   "source": [
    "del te_proj ['Proj Pts']"
   ]
  },
  {
   "cell_type": "code",
   "execution_count": 22,
   "id": "3613c9d6-9d82-4f46-b1b9-098e9666a207",
   "metadata": {},
   "outputs": [
    {
     "data": {
      "text/plain": [
       "Index(['Player', 'Team', 'Tgt', 'Rec', 'Rec Yds', 'Rec TDs'], dtype='object')"
      ]
     },
     "execution_count": 22,
     "metadata": {},
     "output_type": "execute_result"
    }
   ],
   "source": [
    "te_proj.columns"
   ]
  },
  {
   "cell_type": "code",
   "execution_count": 23,
   "id": "22eabf18-bf5e-41a6-b307-164eba7723bb",
   "metadata": {},
   "outputs": [],
   "source": [
    "te_proj.rename(columns={'Rec Yds': 'Receiving Yds'}, inplace=True)"
   ]
  },
  {
   "cell_type": "code",
   "execution_count": 24,
   "id": "d01a7ec1-8b6e-4e5b-9ca7-54122dfc671f",
   "metadata": {},
   "outputs": [],
   "source": [
    "te_proj.rename(columns={'Rec TDs': 'Receiving TD'}, inplace=True)"
   ]
  },
  {
   "cell_type": "code",
   "execution_count": 25,
   "id": "9cc8d171-5ca8-4672-bfd0-ced3d452d3a9",
   "metadata": {},
   "outputs": [],
   "source": [
    "te_proj.rename(columns={'Team': 'Tm'}, inplace=True)"
   ]
  },
  {
   "cell_type": "code",
   "execution_count": 26,
   "id": "8ee7a6f9-3f29-4703-9530-02c9d26283dd",
   "metadata": {},
   "outputs": [],
   "source": [
    "te_proj = te_proj.fillna(0)"
   ]
  },
  {
   "cell_type": "code",
   "execution_count": 27,
   "id": "98ad60fb-2627-4b79-8ac8-7575964e7699",
   "metadata": {},
   "outputs": [],
   "source": [
    "te_pred = tem.predict(te_proj[predictors])"
   ]
  },
  {
   "cell_type": "code",
   "execution_count": 28,
   "id": "3bc25f45-c726-4c3b-ac8f-34afe37e9a70",
   "metadata": {},
   "outputs": [],
   "source": [
    "te_pred = pd.DataFrame(te_pred, columns=[\"Pred Pts\"], index=te_proj.index)"
   ]
  },
  {
   "cell_type": "code",
   "execution_count": 29,
   "id": "36ae1e92-5e7b-4797-81e8-840de5185895",
   "metadata": {},
   "outputs": [],
   "source": [
    "te_comb = pd.concat([te_proj[[\"Player\", \"Tm\"]], te_pred], axis=1)"
   ]
  },
  {
   "cell_type": "code",
   "execution_count": 30,
   "id": "7e3a2678-866d-4018-8e6b-e1a613ed243e",
   "metadata": {},
   "outputs": [],
   "source": [
    "te_comb = te_comb.sort_values(\"Pred Pts\", ascending=False)\n",
    "te_comb[\"Pred Rk\"] = list(range(1,te_comb.shape[0]+1))"
   ]
  },
  {
   "cell_type": "code",
   "execution_count": 31,
   "id": "a6fded12-e7e8-48b4-a942-a49b1eefaea9",
   "metadata": {},
   "outputs": [
    {
     "data": {
      "text/html": [
       "<div>\n",
       "<style scoped>\n",
       "    .dataframe tbody tr th:only-of-type {\n",
       "        vertical-align: middle;\n",
       "    }\n",
       "\n",
       "    .dataframe tbody tr th {\n",
       "        vertical-align: top;\n",
       "    }\n",
       "\n",
       "    .dataframe thead th {\n",
       "        text-align: right;\n",
       "    }\n",
       "</style>\n",
       "<table border=\"1\" class=\"dataframe\">\n",
       "  <thead>\n",
       "    <tr style=\"text-align: right;\">\n",
       "      <th></th>\n",
       "      <th>Player</th>\n",
       "      <th>Tm</th>\n",
       "      <th>Pred Pts</th>\n",
       "      <th>Pred Rk</th>\n",
       "    </tr>\n",
       "  </thead>\n",
       "  <tbody>\n",
       "    <tr>\n",
       "      <th>0</th>\n",
       "      <td>Travis Kelce</td>\n",
       "      <td>KC</td>\n",
       "      <td>170.417383</td>\n",
       "      <td>1</td>\n",
       "    </tr>\n",
       "    <tr>\n",
       "      <th>1</th>\n",
       "      <td>Mark Andrews</td>\n",
       "      <td>BAL</td>\n",
       "      <td>128.543849</td>\n",
       "      <td>2</td>\n",
       "    </tr>\n",
       "    <tr>\n",
       "      <th>2</th>\n",
       "      <td>George Kittle</td>\n",
       "      <td>SF</td>\n",
       "      <td>113.422095</td>\n",
       "      <td>3</td>\n",
       "    </tr>\n",
       "    <tr>\n",
       "      <th>3</th>\n",
       "      <td>T.J. Hockenson</td>\n",
       "      <td>MIN</td>\n",
       "      <td>106.157414</td>\n",
       "      <td>4</td>\n",
       "    </tr>\n",
       "    <tr>\n",
       "      <th>5</th>\n",
       "      <td>Kyle Pitts</td>\n",
       "      <td>ATL</td>\n",
       "      <td>99.325048</td>\n",
       "      <td>5</td>\n",
       "    </tr>\n",
       "    <tr>\n",
       "      <th>...</th>\n",
       "      <td>...</td>\n",
       "      <td>...</td>\n",
       "      <td>...</td>\n",
       "      <td>...</td>\n",
       "    </tr>\n",
       "    <tr>\n",
       "      <th>78</th>\n",
       "      <td>Johnny Mundt</td>\n",
       "      <td>MIN</td>\n",
       "      <td>7.705934</td>\n",
       "      <td>79</td>\n",
       "    </tr>\n",
       "    <tr>\n",
       "      <th>79</th>\n",
       "      <td>Shane Zylstra</td>\n",
       "      <td>DET</td>\n",
       "      <td>7.698960</td>\n",
       "      <td>80</td>\n",
       "    </tr>\n",
       "    <tr>\n",
       "      <th>80</th>\n",
       "      <td>Jeremy Ruckert</td>\n",
       "      <td>NYJ</td>\n",
       "      <td>7.046660</td>\n",
       "      <td>81</td>\n",
       "    </tr>\n",
       "    <tr>\n",
       "      <th>81</th>\n",
       "      <td>Cole Turner</td>\n",
       "      <td>WAS</td>\n",
       "      <td>5.050413</td>\n",
       "      <td>82</td>\n",
       "    </tr>\n",
       "    <tr>\n",
       "      <th>82</th>\n",
       "      <td>Grant Calcaterra</td>\n",
       "      <td>PHI</td>\n",
       "      <td>4.668850</td>\n",
       "      <td>83</td>\n",
       "    </tr>\n",
       "  </tbody>\n",
       "</table>\n",
       "<p>83 rows × 4 columns</p>\n",
       "</div>"
      ],
      "text/plain": [
       "              Player   Tm    Pred Pts  Pred Rk\n",
       "0       Travis Kelce   KC  170.417383        1\n",
       "1       Mark Andrews  BAL  128.543849        2\n",
       "2      George Kittle   SF  113.422095        3\n",
       "3     T.J. Hockenson  MIN  106.157414        4\n",
       "5         Kyle Pitts  ATL   99.325048        5\n",
       "..               ...  ...         ...      ...\n",
       "78      Johnny Mundt  MIN    7.705934       79\n",
       "79     Shane Zylstra  DET    7.698960       80\n",
       "80    Jeremy Ruckert  NYJ    7.046660       81\n",
       "81       Cole Turner  WAS    5.050413       82\n",
       "82  Grant Calcaterra  PHI    4.668850       83\n",
       "\n",
       "[83 rows x 4 columns]"
      ]
     },
     "execution_count": 31,
     "metadata": {},
     "output_type": "execute_result"
    }
   ],
   "source": [
    "te_comb"
   ]
  },
  {
   "cell_type": "code",
   "execution_count": 32,
   "id": "50b61ead-7218-4cb2-bdff-d515de025232",
   "metadata": {},
   "outputs": [],
   "source": [
    "te_comb.to_csv('proj_te.csv')"
   ]
  },
  {
   "cell_type": "code",
   "execution_count": null,
   "id": "e52071e7-474c-492a-951f-7fbda1cc3b3c",
   "metadata": {},
   "outputs": [],
   "source": []
  }
 ],
 "metadata": {
  "kernelspec": {
   "display_name": "Python 3 (ipykernel)",
   "language": "python",
   "name": "python3"
  },
  "language_info": {
   "codemirror_mode": {
    "name": "ipython",
    "version": 3
   },
   "file_extension": ".py",
   "mimetype": "text/x-python",
   "name": "python",
   "nbconvert_exporter": "python",
   "pygments_lexer": "ipython3",
   "version": "3.10.9"
  }
 },
 "nbformat": 4,
 "nbformat_minor": 5
}
