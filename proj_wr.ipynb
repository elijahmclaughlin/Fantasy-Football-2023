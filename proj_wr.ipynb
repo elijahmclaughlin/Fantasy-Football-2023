{
 "cells": [
  {
   "cell_type": "code",
   "execution_count": null,
   "id": "89ed4a85-aef0-439a-bbbf-f691ad26eb02",
   "metadata": {},
   "outputs": [],
   "source": [
    "# wr model and predictions"
   ]
  },
  {
   "cell_type": "code",
   "execution_count": 1,
   "id": "8d1b3ef3-bc99-4c30-ab2d-37366f023e6e",
   "metadata": {},
   "outputs": [],
   "source": [
    "import pandas as pd"
   ]
  },
  {
   "cell_type": "code",
   "execution_count": 2,
   "id": "cd50ecb2-9d00-4356-8576-7a84d6b08817",
   "metadata": {},
   "outputs": [],
   "source": [
    "stats = pd.read_csv(\"ffb_stats.csv\")"
   ]
  },
  {
   "cell_type": "code",
   "execution_count": 3,
   "id": "3cf9a491-7f5e-4d31-b7fb-ef85568039c2",
   "metadata": {},
   "outputs": [],
   "source": [
    "feats = ['Player','Tm','Pos','Rushing Att','Rushing Yds', 'Rushing TD','Year','Pts','Tgt','Rec','Receiving Yds','Receiving TD']"
   ]
  },
  {
   "cell_type": "code",
   "execution_count": 4,
   "id": "ed8e57c4-25fa-477e-a558-05abf2e1353c",
   "metadata": {},
   "outputs": [],
   "source": [
    "ffb_wr = stats[stats['Pos'] == 'WR']"
   ]
  },
  {
   "cell_type": "code",
   "execution_count": 5,
   "id": "c82dc553-6620-42c3-aeee-ca45c3f9cb5d",
   "metadata": {},
   "outputs": [],
   "source": [
    "wr = ffb_wr[feats]"
   ]
  },
  {
   "cell_type": "code",
   "execution_count": 6,
   "id": "717997b5-6187-4ec1-bf02-914e7e7339ec",
   "metadata": {},
   "outputs": [],
   "source": [
    "predictors = ['Rushing Att','Rushing Yds', 'Rushing TD','Tgt','Rec','Receiving Yds','Receiving TD']"
   ]
  },
  {
   "cell_type": "code",
   "execution_count": 8,
   "id": "2530c9f8-2b73-4f66-a377-a22f2a236497",
   "metadata": {},
   "outputs": [],
   "source": [
    "train = wr[wr['Year'] < 2022]\n",
    "test = wr[wr['Year'] == 2022]"
   ]
  },
  {
   "cell_type": "code",
   "execution_count": 10,
   "id": "dadd2866-f5b5-43da-ab12-4ba8bdb55f24",
   "metadata": {},
   "outputs": [],
   "source": [
    "from sklearn.linear_model import Ridge\n",
    "\n",
    "wrm = Ridge(alpha=.1)"
   ]
  },
  {
   "cell_type": "code",
   "execution_count": 11,
   "id": "c42eb020-3019-4780-8b3f-93f42a88abab",
   "metadata": {},
   "outputs": [
    {
     "data": {
      "text/html": [
       "<style>#sk-container-id-1 {color: black;background-color: white;}#sk-container-id-1 pre{padding: 0;}#sk-container-id-1 div.sk-toggleable {background-color: white;}#sk-container-id-1 label.sk-toggleable__label {cursor: pointer;display: block;width: 100%;margin-bottom: 0;padding: 0.3em;box-sizing: border-box;text-align: center;}#sk-container-id-1 label.sk-toggleable__label-arrow:before {content: \"▸\";float: left;margin-right: 0.25em;color: #696969;}#sk-container-id-1 label.sk-toggleable__label-arrow:hover:before {color: black;}#sk-container-id-1 div.sk-estimator:hover label.sk-toggleable__label-arrow:before {color: black;}#sk-container-id-1 div.sk-toggleable__content {max-height: 0;max-width: 0;overflow: hidden;text-align: left;background-color: #f0f8ff;}#sk-container-id-1 div.sk-toggleable__content pre {margin: 0.2em;color: black;border-radius: 0.25em;background-color: #f0f8ff;}#sk-container-id-1 input.sk-toggleable__control:checked~div.sk-toggleable__content {max-height: 200px;max-width: 100%;overflow: auto;}#sk-container-id-1 input.sk-toggleable__control:checked~label.sk-toggleable__label-arrow:before {content: \"▾\";}#sk-container-id-1 div.sk-estimator input.sk-toggleable__control:checked~label.sk-toggleable__label {background-color: #d4ebff;}#sk-container-id-1 div.sk-label input.sk-toggleable__control:checked~label.sk-toggleable__label {background-color: #d4ebff;}#sk-container-id-1 input.sk-hidden--visually {border: 0;clip: rect(1px 1px 1px 1px);clip: rect(1px, 1px, 1px, 1px);height: 1px;margin: -1px;overflow: hidden;padding: 0;position: absolute;width: 1px;}#sk-container-id-1 div.sk-estimator {font-family: monospace;background-color: #f0f8ff;border: 1px dotted black;border-radius: 0.25em;box-sizing: border-box;margin-bottom: 0.5em;}#sk-container-id-1 div.sk-estimator:hover {background-color: #d4ebff;}#sk-container-id-1 div.sk-parallel-item::after {content: \"\";width: 100%;border-bottom: 1px solid gray;flex-grow: 1;}#sk-container-id-1 div.sk-label:hover label.sk-toggleable__label {background-color: #d4ebff;}#sk-container-id-1 div.sk-serial::before {content: \"\";position: absolute;border-left: 1px solid gray;box-sizing: border-box;top: 0;bottom: 0;left: 50%;z-index: 0;}#sk-container-id-1 div.sk-serial {display: flex;flex-direction: column;align-items: center;background-color: white;padding-right: 0.2em;padding-left: 0.2em;position: relative;}#sk-container-id-1 div.sk-item {position: relative;z-index: 1;}#sk-container-id-1 div.sk-parallel {display: flex;align-items: stretch;justify-content: center;background-color: white;position: relative;}#sk-container-id-1 div.sk-item::before, #sk-container-id-1 div.sk-parallel-item::before {content: \"\";position: absolute;border-left: 1px solid gray;box-sizing: border-box;top: 0;bottom: 0;left: 50%;z-index: -1;}#sk-container-id-1 div.sk-parallel-item {display: flex;flex-direction: column;z-index: 1;position: relative;background-color: white;}#sk-container-id-1 div.sk-parallel-item:first-child::after {align-self: flex-end;width: 50%;}#sk-container-id-1 div.sk-parallel-item:last-child::after {align-self: flex-start;width: 50%;}#sk-container-id-1 div.sk-parallel-item:only-child::after {width: 0;}#sk-container-id-1 div.sk-dashed-wrapped {border: 1px dashed gray;margin: 0 0.4em 0.5em 0.4em;box-sizing: border-box;padding-bottom: 0.4em;background-color: white;}#sk-container-id-1 div.sk-label label {font-family: monospace;font-weight: bold;display: inline-block;line-height: 1.2em;}#sk-container-id-1 div.sk-label-container {text-align: center;}#sk-container-id-1 div.sk-container {/* jupyter's `normalize.less` sets `[hidden] { display: none; }` but bootstrap.min.css set `[hidden] { display: none !important; }` so we also need the `!important` here to be able to override the default hidden behavior on the sphinx rendered scikit-learn.org. See: https://github.com/scikit-learn/scikit-learn/issues/21755 */display: inline-block !important;position: relative;}#sk-container-id-1 div.sk-text-repr-fallback {display: none;}</style><div id=\"sk-container-id-1\" class=\"sk-top-container\"><div class=\"sk-text-repr-fallback\"><pre>Ridge(alpha=0.1)</pre><b>In a Jupyter environment, please rerun this cell to show the HTML representation or trust the notebook. <br />On GitHub, the HTML representation is unable to render, please try loading this page with nbviewer.org.</b></div><div class=\"sk-container\" hidden><div class=\"sk-item\"><div class=\"sk-estimator sk-toggleable\"><input class=\"sk-toggleable__control sk-hidden--visually\" id=\"sk-estimator-id-1\" type=\"checkbox\" checked><label for=\"sk-estimator-id-1\" class=\"sk-toggleable__label sk-toggleable__label-arrow\">Ridge</label><div class=\"sk-toggleable__content\"><pre>Ridge(alpha=0.1)</pre></div></div></div></div></div>"
      ],
      "text/plain": [
       "Ridge(alpha=0.1)"
      ]
     },
     "execution_count": 11,
     "metadata": {},
     "output_type": "execute_result"
    }
   ],
   "source": [
    "wrm.fit(train[predictors], train[\"Pts\"])"
   ]
  },
  {
   "cell_type": "code",
   "execution_count": 12,
   "id": "6af0362b-41b3-480a-9b20-418d2d7f32f1",
   "metadata": {},
   "outputs": [],
   "source": [
    "predictions = wrm.predict(test[predictors])"
   ]
  },
  {
   "cell_type": "code",
   "execution_count": 13,
   "id": "3b70f852-3c03-4053-810e-391f359cf75c",
   "metadata": {},
   "outputs": [],
   "source": [
    "predictions = pd.DataFrame(predictions, columns=[\"Pred Pts\"], index=test.index)"
   ]
  },
  {
   "cell_type": "code",
   "execution_count": 14,
   "id": "73fb86a3-c59e-4607-bc65-8e0198f43ab9",
   "metadata": {},
   "outputs": [],
   "source": [
    "comb = pd.concat([test[[\"Player\", \"Pts\"]], predictions], axis=1)"
   ]
  },
  {
   "cell_type": "code",
   "execution_count": 15,
   "id": "27e557f1-fc51-4cd1-b6fa-a68ee5672680",
   "metadata": {
    "collapsed": true,
    "jupyter": {
     "outputs_hidden": true
    },
    "tags": []
   },
   "outputs": [
    {
     "data": {
      "text/html": [
       "<div>\n",
       "<style scoped>\n",
       "    .dataframe tbody tr th:only-of-type {\n",
       "        vertical-align: middle;\n",
       "    }\n",
       "\n",
       "    .dataframe tbody tr th {\n",
       "        vertical-align: top;\n",
       "    }\n",
       "\n",
       "    .dataframe thead th {\n",
       "        text-align: right;\n",
       "    }\n",
       "</style>\n",
       "<table border=\"1\" class=\"dataframe\">\n",
       "  <thead>\n",
       "    <tr style=\"text-align: right;\">\n",
       "      <th></th>\n",
       "      <th>Player</th>\n",
       "      <th>Pts</th>\n",
       "      <th>Pred Pts</th>\n",
       "    </tr>\n",
       "  </thead>\n",
       "  <tbody>\n",
       "    <tr>\n",
       "      <th>235</th>\n",
       "      <td>Justin Jefferson</td>\n",
       "      <td>237.0</td>\n",
       "      <td>231.637593</td>\n",
       "    </tr>\n",
       "    <tr>\n",
       "      <th>249</th>\n",
       "      <td>Davante Adams</td>\n",
       "      <td>230.0</td>\n",
       "      <td>232.762936</td>\n",
       "    </tr>\n",
       "    <tr>\n",
       "      <th>293</th>\n",
       "      <td>Tyreek Hill</td>\n",
       "      <td>218.0</td>\n",
       "      <td>216.557036</td>\n",
       "    </tr>\n",
       "    <tr>\n",
       "      <th>317</th>\n",
       "      <td>A.J. Brown</td>\n",
       "      <td>211.0</td>\n",
       "      <td>212.842864</td>\n",
       "    </tr>\n",
       "    <tr>\n",
       "      <th>343</th>\n",
       "      <td>Stefon Diggs</td>\n",
       "      <td>203.0</td>\n",
       "      <td>204.045275</td>\n",
       "    </tr>\n",
       "    <tr>\n",
       "      <th>...</th>\n",
       "      <td>...</td>\n",
       "      <td>...</td>\n",
       "      <td>...</td>\n",
       "    </tr>\n",
       "    <tr>\n",
       "      <th>7458</th>\n",
       "      <td>C.J. Board</td>\n",
       "      <td>-2.0</td>\n",
       "      <td>-0.833171</td>\n",
       "    </tr>\n",
       "    <tr>\n",
       "      <th>7465</th>\n",
       "      <td>Mason Kinsey</td>\n",
       "      <td>-2.0</td>\n",
       "      <td>-1.139087</td>\n",
       "    </tr>\n",
       "    <tr>\n",
       "      <th>7545</th>\n",
       "      <td>Keke Coutee</td>\n",
       "      <td>-6.0</td>\n",
       "      <td>0.594435</td>\n",
       "    </tr>\n",
       "    <tr>\n",
       "      <th>7563</th>\n",
       "      <td>KaVontae Turpin</td>\n",
       "      <td>-11.0</td>\n",
       "      <td>0.601302</td>\n",
       "    </tr>\n",
       "    <tr>\n",
       "      <th>7574</th>\n",
       "      <td>Montrell Washington</td>\n",
       "      <td>-17.0</td>\n",
       "      <td>0.588470</td>\n",
       "    </tr>\n",
       "  </tbody>\n",
       "</table>\n",
       "<p>218 rows × 3 columns</p>\n",
       "</div>"
      ],
      "text/plain": [
       "                   Player    Pts    Pred Pts\n",
       "235      Justin Jefferson  237.0  231.637593\n",
       "249         Davante Adams  230.0  232.762936\n",
       "293           Tyreek Hill  218.0  216.557036\n",
       "317            A.J. Brown  211.0  212.842864\n",
       "343          Stefon Diggs  203.0  204.045275\n",
       "...                   ...    ...         ...\n",
       "7458           C.J. Board   -2.0   -0.833171\n",
       "7465         Mason Kinsey   -2.0   -1.139087\n",
       "7545          Keke Coutee   -6.0    0.594435\n",
       "7563      KaVontae Turpin  -11.0    0.601302\n",
       "7574  Montrell Washington  -17.0    0.588470\n",
       "\n",
       "[218 rows x 3 columns]"
      ]
     },
     "execution_count": 15,
     "metadata": {},
     "output_type": "execute_result"
    }
   ],
   "source": [
    "comb"
   ]
  },
  {
   "cell_type": "code",
   "execution_count": 16,
   "id": "9d62f0ad-a768-4855-afd8-2776c19d2068",
   "metadata": {},
   "outputs": [],
   "source": [
    "from sklearn.metrics import mean_squared_error"
   ]
  },
  {
   "cell_type": "code",
   "execution_count": 17,
   "id": "658127a1-fa3f-4af4-a5cb-2e4fd38eb7f3",
   "metadata": {},
   "outputs": [
    {
     "data": {
      "text/plain": [
       "10.324083153073735"
      ]
     },
     "execution_count": 17,
     "metadata": {},
     "output_type": "execute_result"
    }
   ],
   "source": [
    "mean_squared_error(comb[\"Pts\"], comb[\"Pred Pts\"])"
   ]
  },
  {
   "cell_type": "code",
   "execution_count": 18,
   "id": "645ec9a1-81f6-4670-a799-abd421874227",
   "metadata": {},
   "outputs": [],
   "source": [
    "import pickle"
   ]
  },
  {
   "cell_type": "code",
   "execution_count": 19,
   "id": "721d2536-52c9-48a5-8a1d-f8ce44a66afd",
   "metadata": {},
   "outputs": [],
   "source": [
    "with open('wrm.pkl', 'wb') as model_file:\n",
    "    pickle.dump(wrm, model_file)"
   ]
  },
  {
   "cell_type": "code",
   "execution_count": 20,
   "id": "6589aae7-eab9-4d70-b13d-b6f6a4ab828c",
   "metadata": {},
   "outputs": [],
   "source": [
    "wr_proj = pd.read_csv('wr_projections.csv')"
   ]
  },
  {
   "cell_type": "code",
   "execution_count": 22,
   "id": "582bdd3a-f547-4457-9ae3-3c27fb06ff41",
   "metadata": {},
   "outputs": [],
   "source": [
    "del wr_proj ['Proj Pts']"
   ]
  },
  {
   "cell_type": "code",
   "execution_count": 23,
   "id": "aa68e042-7bcf-43c1-bf1b-e36b1b6f15c0",
   "metadata": {},
   "outputs": [
    {
     "data": {
      "text/plain": [
       "Index(['Player', 'Team', 'Ru Att', 'Ru Yds', 'Ru TDs', 'Tgt', 'Rec', 'Rec Yds',\n",
       "       'Rec TDs'],\n",
       "      dtype='object')"
      ]
     },
     "execution_count": 23,
     "metadata": {},
     "output_type": "execute_result"
    }
   ],
   "source": [
    "wr_proj.columns"
   ]
  },
  {
   "cell_type": "code",
   "execution_count": 24,
   "id": "96f35f88-ce0f-40ee-9787-0f6a61a75e26",
   "metadata": {},
   "outputs": [],
   "source": [
    "wr_proj.rename(columns={'Ru Att': 'Rushing Att'}, inplace=True)"
   ]
  },
  {
   "cell_type": "code",
   "execution_count": 25,
   "id": "9bc8b63b-039c-49d8-a564-054687e58240",
   "metadata": {},
   "outputs": [],
   "source": [
    "wr_proj.rename(columns={'Ru Yds': 'Rushing Yds'}, inplace=True)"
   ]
  },
  {
   "cell_type": "code",
   "execution_count": 26,
   "id": "372a6e44-3e3a-4ac5-8e8e-4dc55842f775",
   "metadata": {},
   "outputs": [],
   "source": [
    "wr_proj.rename(columns={'Ru TDs': 'Rushing TD'}, inplace=True)"
   ]
  },
  {
   "cell_type": "code",
   "execution_count": 27,
   "id": "a6d03510-2c19-48fa-9bbf-d1714dcd9cd7",
   "metadata": {},
   "outputs": [],
   "source": [
    "wr_proj.rename(columns={'Rec Yds': 'Receiving Yds'}, inplace=True)"
   ]
  },
  {
   "cell_type": "code",
   "execution_count": 28,
   "id": "772db87b-780b-46b4-a6d9-0752004b8ea6",
   "metadata": {},
   "outputs": [],
   "source": [
    "wr_proj.rename(columns={'Rec TDs': 'Receiving TD'}, inplace=True)"
   ]
  },
  {
   "cell_type": "code",
   "execution_count": 29,
   "id": "0101d81a-9879-4390-88c2-b1b4829d4c8b",
   "metadata": {},
   "outputs": [],
   "source": [
    "wr_proj.rename(columns={'Team': 'Tm'}, inplace=True)"
   ]
  },
  {
   "cell_type": "code",
   "execution_count": 30,
   "id": "e6c0c891-a7f4-4b37-98a8-2f33e37ed336",
   "metadata": {},
   "outputs": [],
   "source": [
    "wr_proj = wr_proj.fillna(0)"
   ]
  },
  {
   "cell_type": "code",
   "execution_count": 31,
   "id": "deb8eb96-b56e-4f8b-a38b-5b9c2a085df1",
   "metadata": {},
   "outputs": [
    {
     "data": {
      "text/html": [
       "<div>\n",
       "<style scoped>\n",
       "    .dataframe tbody tr th:only-of-type {\n",
       "        vertical-align: middle;\n",
       "    }\n",
       "\n",
       "    .dataframe tbody tr th {\n",
       "        vertical-align: top;\n",
       "    }\n",
       "\n",
       "    .dataframe thead th {\n",
       "        text-align: right;\n",
       "    }\n",
       "</style>\n",
       "<table border=\"1\" class=\"dataframe\">\n",
       "  <thead>\n",
       "    <tr style=\"text-align: right;\">\n",
       "      <th></th>\n",
       "      <th>Player</th>\n",
       "      <th>Tm</th>\n",
       "      <th>Rushing Att</th>\n",
       "      <th>Rushing Yds</th>\n",
       "      <th>Rushing TD</th>\n",
       "      <th>Tgt</th>\n",
       "      <th>Rec</th>\n",
       "      <th>Receiving Yds</th>\n",
       "      <th>Receiving TD</th>\n",
       "    </tr>\n",
       "  </thead>\n",
       "  <tbody>\n",
       "    <tr>\n",
       "      <th>0</th>\n",
       "      <td>Justin Jefferson</td>\n",
       "      <td>MIN</td>\n",
       "      <td>2.0</td>\n",
       "      <td>7.5</td>\n",
       "      <td>0.1</td>\n",
       "      <td>159.15</td>\n",
       "      <td>110.20</td>\n",
       "      <td>1569.8</td>\n",
       "      <td>8.10</td>\n",
       "    </tr>\n",
       "    <tr>\n",
       "      <th>1</th>\n",
       "      <td>Ja'Marr Chase</td>\n",
       "      <td>CIN</td>\n",
       "      <td>2.0</td>\n",
       "      <td>4.5</td>\n",
       "      <td>0.0</td>\n",
       "      <td>150.15</td>\n",
       "      <td>98.95</td>\n",
       "      <td>1335.5</td>\n",
       "      <td>10.60</td>\n",
       "    </tr>\n",
       "    <tr>\n",
       "      <th>2</th>\n",
       "      <td>Cooper Kupp</td>\n",
       "      <td>LA</td>\n",
       "      <td>2.0</td>\n",
       "      <td>9.5</td>\n",
       "      <td>0.1</td>\n",
       "      <td>152.35</td>\n",
       "      <td>111.80</td>\n",
       "      <td>1347.5</td>\n",
       "      <td>8.35</td>\n",
       "    </tr>\n",
       "    <tr>\n",
       "      <th>3</th>\n",
       "      <td>Tyreek Hill</td>\n",
       "      <td>MIA</td>\n",
       "      <td>2.0</td>\n",
       "      <td>9.5</td>\n",
       "      <td>0.1</td>\n",
       "      <td>145.40</td>\n",
       "      <td>98.50</td>\n",
       "      <td>1348.5</td>\n",
       "      <td>7.60</td>\n",
       "    </tr>\n",
       "    <tr>\n",
       "      <th>4</th>\n",
       "      <td>Stefon Diggs</td>\n",
       "      <td>BUF</td>\n",
       "      <td>0.0</td>\n",
       "      <td>0.0</td>\n",
       "      <td>0.0</td>\n",
       "      <td>145.25</td>\n",
       "      <td>99.65</td>\n",
       "      <td>1243.0</td>\n",
       "      <td>8.95</td>\n",
       "    </tr>\n",
       "    <tr>\n",
       "      <th>...</th>\n",
       "      <td>...</td>\n",
       "      <td>...</td>\n",
       "      <td>...</td>\n",
       "      <td>...</td>\n",
       "      <td>...</td>\n",
       "      <td>...</td>\n",
       "      <td>...</td>\n",
       "      <td>...</td>\n",
       "      <td>...</td>\n",
       "    </tr>\n",
       "    <tr>\n",
       "      <th>181</th>\n",
       "      <td>Trent Taylor</td>\n",
       "      <td>CIN</td>\n",
       "      <td>0.0</td>\n",
       "      <td>0.0</td>\n",
       "      <td>0.0</td>\n",
       "      <td>5.90</td>\n",
       "      <td>3.10</td>\n",
       "      <td>36.4</td>\n",
       "      <td>0.10</td>\n",
       "    </tr>\n",
       "    <tr>\n",
       "      <th>182</th>\n",
       "      <td>James Proche</td>\n",
       "      <td>BAL</td>\n",
       "      <td>0.0</td>\n",
       "      <td>0.0</td>\n",
       "      <td>0.0</td>\n",
       "      <td>4.80</td>\n",
       "      <td>3.10</td>\n",
       "      <td>34.1</td>\n",
       "      <td>0.10</td>\n",
       "    </tr>\n",
       "    <tr>\n",
       "      <th>183</th>\n",
       "      <td>Derius Davis</td>\n",
       "      <td>LAC</td>\n",
       "      <td>0.0</td>\n",
       "      <td>0.0</td>\n",
       "      <td>0.0</td>\n",
       "      <td>2.90</td>\n",
       "      <td>2.40</td>\n",
       "      <td>29.1</td>\n",
       "      <td>0.10</td>\n",
       "    </tr>\n",
       "    <tr>\n",
       "      <th>184</th>\n",
       "      <td>Grant DuBose</td>\n",
       "      <td>GB</td>\n",
       "      <td>0.0</td>\n",
       "      <td>0.0</td>\n",
       "      <td>0.0</td>\n",
       "      <td>3.95</td>\n",
       "      <td>2.45</td>\n",
       "      <td>27.4</td>\n",
       "      <td>0.10</td>\n",
       "    </tr>\n",
       "    <tr>\n",
       "      <th>185</th>\n",
       "      <td>Trinity Benson</td>\n",
       "      <td>DET</td>\n",
       "      <td>0.0</td>\n",
       "      <td>0.0</td>\n",
       "      <td>0.0</td>\n",
       "      <td>3.20</td>\n",
       "      <td>1.80</td>\n",
       "      <td>24.8</td>\n",
       "      <td>0.10</td>\n",
       "    </tr>\n",
       "  </tbody>\n",
       "</table>\n",
       "<p>186 rows × 9 columns</p>\n",
       "</div>"
      ],
      "text/plain": [
       "               Player   Tm  Rushing Att  Rushing Yds  Rushing TD     Tgt  \\\n",
       "0    Justin Jefferson  MIN          2.0          7.5         0.1  159.15   \n",
       "1       Ja'Marr Chase  CIN          2.0          4.5         0.0  150.15   \n",
       "2         Cooper Kupp   LA          2.0          9.5         0.1  152.35   \n",
       "3         Tyreek Hill  MIA          2.0          9.5         0.1  145.40   \n",
       "4        Stefon Diggs  BUF          0.0          0.0         0.0  145.25   \n",
       "..                ...  ...          ...          ...         ...     ...   \n",
       "181      Trent Taylor  CIN          0.0          0.0         0.0    5.90   \n",
       "182      James Proche  BAL          0.0          0.0         0.0    4.80   \n",
       "183      Derius Davis  LAC          0.0          0.0         0.0    2.90   \n",
       "184      Grant DuBose   GB          0.0          0.0         0.0    3.95   \n",
       "185    Trinity Benson  DET          0.0          0.0         0.0    3.20   \n",
       "\n",
       "        Rec  Receiving Yds  Receiving TD  \n",
       "0    110.20         1569.8          8.10  \n",
       "1     98.95         1335.5         10.60  \n",
       "2    111.80         1347.5          8.35  \n",
       "3     98.50         1348.5          7.60  \n",
       "4     99.65         1243.0          8.95  \n",
       "..      ...            ...           ...  \n",
       "181    3.10           36.4          0.10  \n",
       "182    3.10           34.1          0.10  \n",
       "183    2.40           29.1          0.10  \n",
       "184    2.45           27.4          0.10  \n",
       "185    1.80           24.8          0.10  \n",
       "\n",
       "[186 rows x 9 columns]"
      ]
     },
     "execution_count": 31,
     "metadata": {},
     "output_type": "execute_result"
    }
   ],
   "source": [
    "wr_proj"
   ]
  },
  {
   "cell_type": "code",
   "execution_count": 32,
   "id": "af78ca42-4f55-4cba-a32d-8d7e939eb136",
   "metadata": {},
   "outputs": [],
   "source": [
    "wr_pred = wrm.predict(wr_proj[predictors])"
   ]
  },
  {
   "cell_type": "code",
   "execution_count": 33,
   "id": "d31c2c17-47b9-4977-8683-6174f82a2da4",
   "metadata": {},
   "outputs": [],
   "source": [
    "wr_pred = pd.DataFrame(wr_pred, columns=[\"Pred Pts\"], index=wr_proj.index)"
   ]
  },
  {
   "cell_type": "code",
   "execution_count": 34,
   "id": "83a1fdeb-1b66-499e-8a95-31f3f15a6c88",
   "metadata": {},
   "outputs": [],
   "source": [
    "wr_comb = pd.concat([wr_proj[[\"Player\", \"Tm\"]], wr_pred], axis=1)"
   ]
  },
  {
   "cell_type": "code",
   "execution_count": 35,
   "id": "4dccc42b-6e3e-42c7-a4de-28d594ea3520",
   "metadata": {},
   "outputs": [],
   "source": [
    "wr_comb = wr_comb.sort_values(\"Pred Pts\", ascending=False)\n",
    "wr_comb[\"Pred Rk\"] = list(range(1,wr_comb.shape[0]+1))"
   ]
  },
  {
   "cell_type": "code",
   "execution_count": 37,
   "id": "7f31e9d4-b261-4c04-ba9d-9b75e8d88df3",
   "metadata": {},
   "outputs": [
    {
     "data": {
      "text/html": [
       "<div>\n",
       "<style scoped>\n",
       "    .dataframe tbody tr th:only-of-type {\n",
       "        vertical-align: middle;\n",
       "    }\n",
       "\n",
       "    .dataframe tbody tr th {\n",
       "        vertical-align: top;\n",
       "    }\n",
       "\n",
       "    .dataframe thead th {\n",
       "        text-align: right;\n",
       "    }\n",
       "</style>\n",
       "<table border=\"1\" class=\"dataframe\">\n",
       "  <thead>\n",
       "    <tr style=\"text-align: right;\">\n",
       "      <th></th>\n",
       "      <th>Player</th>\n",
       "      <th>Tm</th>\n",
       "      <th>Pred Pts</th>\n",
       "      <th>Pred Rk</th>\n",
       "    </tr>\n",
       "  </thead>\n",
       "  <tbody>\n",
       "    <tr>\n",
       "      <th>0</th>\n",
       "      <td>Justin Jefferson</td>\n",
       "      <td>MIN</td>\n",
       "      <td>201.940051</td>\n",
       "      <td>1</td>\n",
       "    </tr>\n",
       "    <tr>\n",
       "      <th>1</th>\n",
       "      <td>Ja'Marr Chase</td>\n",
       "      <td>CIN</td>\n",
       "      <td>193.366918</td>\n",
       "      <td>2</td>\n",
       "    </tr>\n",
       "    <tr>\n",
       "      <th>2</th>\n",
       "      <td>Cooper Kupp</td>\n",
       "      <td>LA</td>\n",
       "      <td>180.612423</td>\n",
       "      <td>3</td>\n",
       "    </tr>\n",
       "    <tr>\n",
       "      <th>3</th>\n",
       "      <td>Tyreek Hill</td>\n",
       "      <td>MIA</td>\n",
       "      <td>177.302478</td>\n",
       "      <td>4</td>\n",
       "    </tr>\n",
       "    <tr>\n",
       "      <th>4</th>\n",
       "      <td>Stefon Diggs</td>\n",
       "      <td>BUF</td>\n",
       "      <td>173.373485</td>\n",
       "      <td>5</td>\n",
       "    </tr>\n",
       "    <tr>\n",
       "      <th>5</th>\n",
       "      <td>Davante Adams</td>\n",
       "      <td>LV</td>\n",
       "      <td>169.885508</td>\n",
       "      <td>6</td>\n",
       "    </tr>\n",
       "    <tr>\n",
       "      <th>7</th>\n",
       "      <td>A.J. Brown</td>\n",
       "      <td>PHI</td>\n",
       "      <td>167.768946</td>\n",
       "      <td>7</td>\n",
       "    </tr>\n",
       "    <tr>\n",
       "      <th>6</th>\n",
       "      <td>CeeDee Lamb</td>\n",
       "      <td>DAL</td>\n",
       "      <td>163.737599</td>\n",
       "      <td>8</td>\n",
       "    </tr>\n",
       "    <tr>\n",
       "      <th>9</th>\n",
       "      <td>Garrett Wilson</td>\n",
       "      <td>NYJ</td>\n",
       "      <td>154.189223</td>\n",
       "      <td>9</td>\n",
       "    </tr>\n",
       "    <tr>\n",
       "      <th>10</th>\n",
       "      <td>Jaylen Waddle</td>\n",
       "      <td>MIA</td>\n",
       "      <td>152.375120</td>\n",
       "      <td>10</td>\n",
       "    </tr>\n",
       "  </tbody>\n",
       "</table>\n",
       "</div>"
      ],
      "text/plain": [
       "              Player   Tm    Pred Pts  Pred Rk\n",
       "0   Justin Jefferson  MIN  201.940051        1\n",
       "1      Ja'Marr Chase  CIN  193.366918        2\n",
       "2        Cooper Kupp   LA  180.612423        3\n",
       "3        Tyreek Hill  MIA  177.302478        4\n",
       "4       Stefon Diggs  BUF  173.373485        5\n",
       "5      Davante Adams   LV  169.885508        6\n",
       "7         A.J. Brown  PHI  167.768946        7\n",
       "6        CeeDee Lamb  DAL  163.737599        8\n",
       "9     Garrett Wilson  NYJ  154.189223        9\n",
       "10     Jaylen Waddle  MIA  152.375120       10"
      ]
     },
     "execution_count": 37,
     "metadata": {},
     "output_type": "execute_result"
    }
   ],
   "source": [
    "wr_comb.head(10)"
   ]
  },
  {
   "cell_type": "code",
   "execution_count": 38,
   "id": "2c65e962-af31-4daf-b5d0-c6189ef9c205",
   "metadata": {},
   "outputs": [],
   "source": [
    "wr_comb.to_csv('proj_wr.csv')"
   ]
  },
  {
   "cell_type": "code",
   "execution_count": null,
   "id": "3cbe44e8-5457-4313-94a1-b8cb834eed6d",
   "metadata": {},
   "outputs": [],
   "source": []
  }
 ],
 "metadata": {
  "kernelspec": {
   "display_name": "Python 3 (ipykernel)",
   "language": "python",
   "name": "python3"
  },
  "language_info": {
   "codemirror_mode": {
    "name": "ipython",
    "version": 3
   },
   "file_extension": ".py",
   "mimetype": "text/x-python",
   "name": "python",
   "nbconvert_exporter": "python",
   "pygments_lexer": "ipython3",
   "version": "3.10.9"
  }
 },
 "nbformat": 4,
 "nbformat_minor": 5
}
